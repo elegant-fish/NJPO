{
 "cells": [
  {
   "cell_type": "markdown",
   "metadata": {},
   "source": [
    "# Programowanie obiektowe w języku *C#*\n",
    "\n",
    "## Wstęp\n",
    "\n",
    "Klasa to pojemnik na dane i metody. Może posiadać:\n",
    "\n",
    "* nazwę,\n",
    "* pola,\n",
    "* właściwości,\n",
    "* zdarzenia,\n",
    "* konstruktory/destruktory,\n",
    "* metody (w tym przedefiniowane operatory np. dodawania).\n",
    "\n",
    "*Nazwa* to identyfikator typu klasy. W momencie tworzenia instancji klasy nazwa ta jest przekazywana za słowem kluczowym `new`. Pole to zmienna, która przynależy do klasy i zawiera dane, które są procesowane przez funkcje. *Właściwości* podobnie jak pola zawierają dane, ale mogą zawierać dodatkowe fragmenty kodu. Mogą posiadać dodatkowe modyfikatory dostępu. *Zdarzenia* pozwalają użytkownikowi podłączyć się do powiadomień, które klasa wyzwala. Używane są głównie w programowaniu zdarzeniowym oraz programowania `GUI`. *Konstruktor* i *destruktor* zawierają instrukcje, które zostaną wykonane w momencie kolejno, tworzenia i zwalniania instancji klasy. Zwykle *konstruktor* zawiera fragmenty kodu odpowiedzialne za przydział zasobów i inicjalizację zmiennych, a *destruktor* zwalnianie zasobów niezarządzanych (które nie są zarządzane przez `garbage collector`). *Metody* to funkcje, które są własnością klasy.\n",
    "\n",
    "Poniższy listing przedstawia przykładową deklarację i użycie klasy: "
   ]
  },
  {
   "cell_type": "code",
   "execution_count": null,
   "metadata": {
    "dotnet_interactive": {
     "language": "csharp"
    }
   },
   "outputs": [],
   "source": [
    "public class SimpleClass //nazwa\n",
    "{\n",
    "   public int Field; //pole\n",
    "   //public readonly Field; //tylko do odczytu oprócz konstruktora\n",
    "   public int Property { get; set; } //właściwość\n",
    "   public int PropWithDefault { get; set; } = 12; //właściwość zainicjowana\n",
    "   public int PropWithInit { get; init; } //tylko do odczytu oprócz wyrażenia tworzącego instancję obiektu\n",
    "   public SimpleClass(){} //konstruktor\n",
    "   ~SimpleClass(){} //destruktor\n",
    "   public void DoSomething(int field) //funkcja klasy\n",
    "   {\n",
    "      Field = field;\n",
    "   }\n",
    "}\n",
    "\n",
    "SimpleClass instance1 = new SimpleClass(); //nowa instancja\n",
    "var instance2 = new SimpleClass(); //nowa instancja 2\n",
    "//SimpleClass instance1 = new(); //nowa instancja 3 (C# 9)"
   ]
  },
  {
   "cell_type": "markdown",
   "metadata": {},
   "source": [
    "Słowo kluczowe `init` oznacza tutaj, że tylko w wyrażeniu, które tworzy obiekt, można przypisać zmiennej wartość.\n",
    "\n",
    "Należy oddzielić deklarację klasy od jej instancji. Klasa to byt logiczny, jego fizyczną reprezentację stanowi instancja, która znajduje się w pamięci komputera.\n",
    "\n",
    "## Funkcje i ich argumenty\n",
    "\n",
    "Argumenty do funkcji można przekazywać na wiele sposób. W języku C# domyślnie argumenty przekazywane są przez wartość. Wewnątrz funkcji każdy taki obiekt jest kopią zmiennej, która jest przekazywana do funkcji. W przypadku typów prostych (value type jak int, float, double) zmiana wartości takiej zmiennej wewnątrz funkcji nie powoduje zmiany przekazywanej funkcji. Jest to prawidłowe zachowanie, gdyż zgodnie z dobrymi praktykami, funkcja powinna przetwarzać dane, na podstawie parametrów przekazywanych jako argumenty. Ilustruje to poniższy przykład."
   ]
  },
  {
   "cell_type": "code",
   "execution_count": 1,
   "metadata": {
    "dotnet_interactive": {
     "language": "csharp"
    }
   },
   "outputs": [
    {
     "data": {
      "text/html": [
       "\r\n",
       "<div>\r\n",
       "    <div id='dotnet-interactive-this-cell-9144.Microsoft.DotNet.Interactive.Http.HttpPort' style='display: none'>\r\n",
       "        The below script needs to be able to find the current output cell; this is an easy method to get it.\r\n",
       "    </div>\r\n",
       "    <script type='text/javascript'>\r\n",
       "async function probeAddresses(probingAddresses) {\r\n",
       "    function timeout(ms, promise) {\r\n",
       "        return new Promise(function (resolve, reject) {\r\n",
       "            setTimeout(function () {\r\n",
       "                reject(new Error('timeout'))\r\n",
       "            }, ms)\r\n",
       "            promise.then(resolve, reject)\r\n",
       "        })\r\n",
       "    }\r\n",
       "\r\n",
       "    if (Array.isArray(probingAddresses)) {\r\n",
       "        for (let i = 0; i < probingAddresses.length; i++) {\r\n",
       "\r\n",
       "            let rootUrl = probingAddresses[i];\r\n",
       "\r\n",
       "            if (!rootUrl.endsWith('/')) {\r\n",
       "                rootUrl = `${rootUrl}/`;\r\n",
       "            }\r\n",
       "\r\n",
       "            try {\r\n",
       "                let response = await timeout(1000, fetch(`${rootUrl}discovery`, {\r\n",
       "                    method: 'POST',\r\n",
       "                    cache: 'no-cache',\r\n",
       "                    mode: 'cors',\r\n",
       "                    timeout: 1000,\r\n",
       "                    headers: {\r\n",
       "                        'Content-Type': 'text/plain'\r\n",
       "                    },\r\n",
       "                    body: probingAddresses[i]\r\n",
       "                }));\r\n",
       "\r\n",
       "                if (response.status == 200) {\r\n",
       "                    return rootUrl;\r\n",
       "                }\r\n",
       "            }\r\n",
       "            catch (e) { }\r\n",
       "        }\r\n",
       "    }\r\n",
       "}\r\n",
       "\r\n",
       "function loadDotnetInteractiveApi() {\r\n",
       "    probeAddresses([\"http://192.168.0.66:1000/\", \"http://192.168.56.1:1000/\", \"http://127.0.0.1:1000/\"])\r\n",
       "        .then((root) => {\r\n",
       "        // use probing to find host url and api resources\r\n",
       "        // load interactive helpers and language services\r\n",
       "        let dotnetInteractiveRequire = require.config({\r\n",
       "        context: '9144.Microsoft.DotNet.Interactive.Http.HttpPort',\r\n",
       "                paths:\r\n",
       "            {\r\n",
       "                'dotnet-interactive': `${root}resources`\r\n",
       "                }\r\n",
       "        }) || require;\r\n",
       "\r\n",
       "            window.dotnetInteractiveRequire = dotnetInteractiveRequire;\r\n",
       "\r\n",
       "            window.configureRequireFromExtension = function(extensionName, extensionCacheBuster) {\r\n",
       "                let paths = {};\r\n",
       "                paths[extensionName] = `${root}extensions/${extensionName}/resources/`;\r\n",
       "                \r\n",
       "                let internalRequire = require.config({\r\n",
       "                    context: extensionCacheBuster,\r\n",
       "                    paths: paths,\r\n",
       "                    urlArgs: `cacheBuster=${extensionCacheBuster}`\r\n",
       "                    }) || require;\r\n",
       "\r\n",
       "                return internalRequire\r\n",
       "            };\r\n",
       "        \r\n",
       "            dotnetInteractiveRequire([\r\n",
       "                    'dotnet-interactive/dotnet-interactive'\r\n",
       "                ],\r\n",
       "                function (dotnet) {\r\n",
       "                    dotnet.init(window);\r\n",
       "                },\r\n",
       "                function (error) {\r\n",
       "                    console.log(error);\r\n",
       "                }\r\n",
       "            );\r\n",
       "        })\r\n",
       "        .catch(error => {console.log(error);});\r\n",
       "    }\r\n",
       "\r\n",
       "// ensure `require` is available globally\r\n",
       "if ((typeof(require) !==  typeof(Function)) || (typeof(require.config) !== typeof(Function))) {\r\n",
       "    let require_script = document.createElement('script');\r\n",
       "    require_script.setAttribute('src', 'https://cdnjs.cloudflare.com/ajax/libs/require.js/2.3.6/require.min.js');\r\n",
       "    require_script.setAttribute('type', 'text/javascript');\r\n",
       "    \r\n",
       "    \r\n",
       "    require_script.onload = function() {\r\n",
       "        loadDotnetInteractiveApi();\r\n",
       "    };\r\n",
       "\r\n",
       "    document.getElementsByTagName('head')[0].appendChild(require_script);\r\n",
       "}\r\n",
       "else {\r\n",
       "    loadDotnetInteractiveApi();\r\n",
       "}\r\n",
       "\r\n",
       "    </script>\r\n",
       "</div>"
      ]
     },
     "metadata": {},
     "output_type": "display_data"
    },
    {
     "name": "stdout",
     "output_type": "stream",
     "text": [
      "PassValueType argument: 4\r\n"
     ]
    }
   ],
   "source": [
    "public void PassValueType(int argument) {\n",
    "    argument = argument * 4;\n",
    "    Console.WriteLine($\"PassValueType argument: {argument}\");\n",
    "}\n",
    "\n",
    "var argument = 1;\n",
    "\n",
    "PassValueType(argument);\n",
    "\n",
    "//Console.WriteLine($\"Argument: {argument}\");"
   ]
  },
  {
   "cell_type": "markdown",
   "metadata": {},
   "source": [
    "Powyższy problem można rozwiązać na trzy sposoby. \n",
    "\n",
    "1. Funkcja może zwracać zmodyfikowany argument.\n",
    "2. Jeśli funkcja zmienia argument oznacza to, że może zostać ona wydzielona jako pole lub właściwość całej klasy, a nie zmienna lokalna.\n",
    "3. Można dodać słowo kluczowe **`ref`** w ten sposób mówiąc kompilatorowi, że ma przekazać adres zmiennej, a nie tworzyć jej kopii.\n",
    "\n",
    "Użycie słowa kluczowego **`ref`** ma dwa zastosowania, jedno popularne (dla typów prostych), drugie mniej znane (dla typów referencyjnych jak klasa). Najpierw zostanie omówione pierwsze zastosowanie, które naprawia powyższy problem z przekazywaniem kopii zmiennej."
   ]
  },
  {
   "cell_type": "code",
   "execution_count": 1,
   "metadata": {
    "dotnet_interactive": {
     "language": "csharp"
    }
   },
   "outputs": [
    {
     "data": {
      "text/plain": [
       "PassValueTypeRef argument: 2\r\n"
      ]
     },
     "execution_count": 1,
     "metadata": {},
     "output_type": "execute_result"
    },
    {
     "data": {
      "text/plain": [
       "Argument: 2\r\n"
      ]
     },
     "execution_count": 1,
     "metadata": {},
     "output_type": "execute_result"
    }
   ],
   "source": [
    "public void PassValueTypeByRef(ref int argument) {\n",
    "    argument = 2;\n",
    "    Console.WriteLine($\"PassValueTypeRef argument: {argument}\");\n",
    "}\n",
    "\n",
    "var argument = 1;\n",
    "\n",
    "PassValueTypeByRef(ref argument);\n",
    "\n",
    "Console.WriteLine($\"Argument: {argument}\");"
   ]
  },
  {
   "cell_type": "markdown",
   "metadata": {},
   "source": [
    "Jak widać na powyższym przykładzie, słowo kluczowe **`ref`** należy użyć w dwóch miejscach, w momencie wywoływania funkcji i jej deklaracji. \n",
    "\n",
    "Drugim mniej istotnym, a co za tym idzie mniej popularnym zastosowaniem jest inicjalizacja klasy. Bez słowa kluczowego **`ref`**, kompilator przekaże kopię zmiennej wskaźnikowej na typ. Problem pojawia się w momencie inicjalizacji klasy i przekazania adresu do utworzonej kopii zmiennej wewnątrz funkcji. Ilustruje to poniższy kod."
   ]
  },
  {
   "cell_type": "code",
   "execution_count": 1,
   "metadata": {
    "dotnet_interactive": {
     "language": "csharp"
    }
   },
   "outputs": [
    {
     "data": {
      "text/plain": [
       "Argument before call: 1\r\n"
      ]
     },
     "execution_count": 1,
     "metadata": {},
     "output_type": "execute_result"
    },
    {
     "data": {
      "text/plain": [
       "PassRefType argument: 2\r\n"
      ]
     },
     "execution_count": 1,
     "metadata": {},
     "output_type": "execute_result"
    },
    {
     "data": {
      "text/plain": [
       "PassRefType argument: 3\r\n"
      ]
     },
     "execution_count": 1,
     "metadata": {},
     "output_type": "execute_result"
    },
    {
     "data": {
      "text/plain": [
       "Argument after call: 2\r\n"
      ]
     },
     "execution_count": 1,
     "metadata": {},
     "output_type": "execute_result"
    }
   ],
   "source": [
    "public class ClassContainer \n",
    "{\n",
    "    public int Value { get; set; }\n",
    "}\n",
    "\n",
    "public void PassRefType(ClassContainer container) \n",
    "{\n",
    "    container.Value = 2;\n",
    "    Console.WriteLine($\"PassRefType argument: {container.Value}\");\n",
    "\n",
    "    container = new ClassContainer() { Value = 3 };\n",
    "    Console.WriteLine($\"PassRefType argument: {container.Value}\");\n",
    "}\n",
    "\n",
    "var container = new ClassContainer() { Value = 1 };\n",
    "\n",
    "Console.WriteLine($\"Argument before call: {container.Value}\");\n",
    "\n",
    "PassRefType(container);\n",
    "\n",
    "Console.WriteLine($\"Argument after call: {container.Value}\");"
   ]
  },
  {
   "cell_type": "markdown",
   "metadata": {},
   "source": [
    "Jak widać na powyższym listingu, w momencie wywołania funkcji powstaje kopia wskaźnika (referencji) do obiektu utworzonego przed wywołaniem funkcji `PassRefType`. Wewnątrz tej funkcji, zmiana wartości zmiennej `value` powoduje zmianę globalnie, co łatwo zaobserwować po tym co zostało wydrukowane na ekranie po wywołaniu funkcji (ostatnia linia kodu). Wracając jednak do funkcji `PassRefType`, po drugiej inicjalizacji obiektu klasy `ClassContainer` wskażnik `container` zawiera już inny adres, niż początkowo. Jednak zmienia się kopia wskaźnika widoczna w przestrzeni nazw funkcji `PassRefType`, a nie wskaźnik `container` zainicjowany jako pierwszy. Problem ten jednak łatwo naprawić przy użyciu **`ref`**, który powoduje przekazanie wskaźnika na wskaźnik, co przedstawia poniższy kod."
   ]
  },
  {
   "cell_type": "code",
   "execution_count": 1,
   "metadata": {
    "dotnet_interactive": {
     "language": "csharp"
    }
   },
   "outputs": [
    {
     "data": {
      "text/plain": [
       "Argument before call: 1\r\n"
      ]
     },
     "execution_count": 1,
     "metadata": {},
     "output_type": "execute_result"
    },
    {
     "data": {
      "text/plain": [
       "PassRefType argument: 2\r\n"
      ]
     },
     "execution_count": 1,
     "metadata": {},
     "output_type": "execute_result"
    },
    {
     "data": {
      "text/plain": [
       "PassRefType argument: 3\r\n"
      ]
     },
     "execution_count": 1,
     "metadata": {},
     "output_type": "execute_result"
    },
    {
     "data": {
      "text/plain": [
       "Argument after call: 3\r\n"
      ]
     },
     "execution_count": 1,
     "metadata": {},
     "output_type": "execute_result"
    }
   ],
   "source": [
    "public class ClassContainer \n",
    "{\n",
    "    public int Value { get; set; }\n",
    "}\n",
    "\n",
    "public void PassRefType(ref ClassContainer container) \n",
    "{\n",
    "    container.Value = 2;\n",
    "    Console.WriteLine($\"PassRefType argument: {container.Value}\");\n",
    "\n",
    "    container = new ClassContainer() { Value = 3 };\n",
    "    Console.WriteLine($\"PassRefType argument: {container.Value}\");\n",
    "}\n",
    "\n",
    "var container = new ClassContainer() { Value = 1 };\n",
    "\n",
    "Console.WriteLine($\"Argument before call: {container.Value}\");\n",
    "\n",
    "PassRefType(ref container);\n",
    "\n",
    "Console.WriteLine($\"Argument after call: {container.Value}\");"
   ]
  },
  {
   "cell_type": "markdown",
   "metadata": {},
   "source": [
    "Zmienna container wskazuje na inny obszar pamięci, co łatwo zaobserwować po ostatnim wydruku na ekran wartości zmiennej `value`.\n",
    "\n",
    "Kolejnym słowem kluczowym związanym z przekazywaniem argumentów do funkcji jest **`out`**, który wymusz przekazanie wprost wartości dla zmiennej z tym słowem kluczowym w ciele wywoływanej funkcji."
   ]
  },
  {
   "cell_type": "code",
   "execution_count": null,
   "metadata": {
    "dotnet_interactive": {
     "language": "csharp"
    }
   },
   "outputs": [],
   "source": [
    "public void PassWithOut(out string name) {\n",
    "    name = \"Ala\";\n",
    "}\n",
    "\n",
    "string name = null;\n",
    "\n",
    "PassWithOut(out name);"
   ]
  },
  {
   "cell_type": "markdown",
   "metadata": {},
   "source": [
    "Słowo kluczowe **`out`** musi pojawić się w dwóch miejscach, w deklaracji funkcji i jej wywołaniu. Nieprzekazanie tego słowa kluczowego w jednym z miejsc powoduje błąd kompilacji.\n",
    "\n",
    "Dobrą praktyką w przypadku bardziej złożonych funkcji jest w deklaracji funkcji ustawienie parametrów domyślnych. Poniżej znajduje się przykładowa deklaracja tego typu parametrów."
   ]
  },
  {
   "cell_type": "code",
   "execution_count": 1,
   "metadata": {
    "dotnet_interactive": {
     "language": "csharp"
    }
   },
   "outputs": [
    {
     "data": {
      "text/plain": [
       "Hello\r\n"
      ]
     },
     "execution_count": 1,
     "metadata": {},
     "output_type": "execute_result"
    }
   ],
   "source": [
    "public void PassWithDefaults(string label, int n = 1, int length = 2) {\n",
    "    for (int i = 0; i < n; i++) {\n",
    "        Console.WriteLine(label.Substring(0, length));\n",
    "    }    \n",
    "}\n",
    "\n",
    "PassWithDefaults(\"Hello World\", length: 5);"
   ]
  },
  {
   "cell_type": "markdown",
   "metadata": {},
   "source": [
    "Do funkcji `PassWithDefaults` został przekazany łańcuch znaków \"Hello World\" wraz z drugim domyślnym parametrem `length`. Minimalnie do funkcji należy przekazać parametr `label`. Pozostałe parametry są opcjonalne z wartościami domyślnymi.\n",
    "\n",
    "Ostatnim sposobem na przekazywanie parametrów jest użycie słowa kluczowego **`params`**, które umożliwia agregowanie argumentów w tablice, dzięki czemu w trakcie wywołania funkcji można przekazywać dowolnie wiele argumentów po przecinku."
   ]
  },
  {
   "cell_type": "code",
   "execution_count": 1,
   "metadata": {
    "dotnet_interactive": {
     "language": "csharp"
    }
   },
   "outputs": [
    {
     "data": {
      "text/plain": [
       "H\r\n"
      ]
     },
     "execution_count": 1,
     "metadata": {},
     "output_type": "execute_result"
    },
    {
     "data": {
      "text/plain": [
       "e\r\n"
      ]
     },
     "execution_count": 1,
     "metadata": {},
     "output_type": "execute_result"
    },
    {
     "data": {
      "text/plain": [
       "l\r\n"
      ]
     },
     "execution_count": 1,
     "metadata": {},
     "output_type": "execute_result"
    },
    {
     "data": {
      "text/plain": [
       "l\r\n"
      ]
     },
     "execution_count": 1,
     "metadata": {},
     "output_type": "execute_result"
    },
    {
     "data": {
      "text/plain": [
       "o\r\n"
      ]
     },
     "execution_count": 1,
     "metadata": {},
     "output_type": "execute_result"
    }
   ],
   "source": [
    "public void PassWithParams(string label, params int[] indexes) {\n",
    "    foreach(var index in indexes) {\n",
    "        Console.WriteLine(label[index]);\n",
    "    }\n",
    "}\n",
    "\n",
    "PassWithParams(\"Hello World\", 0, 1, 2, 3, 4);"
   ]
  },
  {
   "cell_type": "markdown",
   "metadata": {},
   "source": [
    "## Przeciążenie funkcji\n",
    "\n",
    "Jedną z cech języka C# jest możliwość przeciążenia funkcji (oraz konstruktorów). Oznacza to, że wiele zdefiniowanych funkcji ma takie same nazwy, ale różne argumenty lub co najmniej różne typu argumentów. Wywołanie funkcji musi być jednoznaczne, dlatego w przypadku niejednoznaczności kompilator zwróci błąd."
   ]
  },
  {
   "cell_type": "code",
   "execution_count": null,
   "metadata": {
    "dotnet_interactive": {
     "language": "csharp"
    }
   },
   "outputs": [
    {
     "name": "stdout",
     "output_type": "stream",
     "text": [
      "Message\r\n",
      "Message from exception\r\n",
      "Prefix: Message from exception\r\n"
     ]
    }
   ],
   "source": [
    "public void Log(string message) {    \n",
    "    Console.WriteLine(message);\n",
    "}\n",
    "\n",
    "public void Log(Exception exception) {\n",
    "    Console.WriteLine(exception.Message);\n",
    "}\n",
    "\n",
    "public void Log(Exception exception, string customPrefix) {\n",
    "    Console.WriteLine($\"{customPrefix}: {exception.Message}\");\n",
    "}\n",
    "\n",
    "Log(\"Message\");\n",
    "Log(new Exception(\"Message from exception\"));\n",
    "Log(new Exception(\"Message from exception\"), \"Prefix\");"
   ]
  },
  {
   "cell_type": "markdown",
   "metadata": {},
   "source": [
    "## Enkapsulacja (hermetyzacja)\n",
    "\n",
    "Oznacza ukrywanie funkcji lub zmiennych klasy, aby były dostępne tylko dla obiektów dziedziczących oraz ogranicza dostępu z zewnątrz. Dostępne są następujące modyfikatory dostępu:\n",
    "\n",
    "* `public`.\n",
    "* `private`.\n",
    "* `protected`.\n",
    "* `internal`.\n",
    "* `protected internal`.\n",
    "* `private protected (C# 7.2)`\n",
    "\n",
    "Poniższa tabela przedstawia modyfikatory oraz ich ograniczenia w dostępie do ich zasobów.\n",
    "\n",
    "|Modyfikator|Klasy pochodne z tego samego modułu|Pozostałe klas z tego samego modułu (projektu)|Klasy pochodne z innych modułów|Klasy z innych modułów|\n",
    "|:-|:-:|:-:|:-:|:-:|\n",
    "|`private`              |Nie|Nie|Nie|Nie|\n",
    "|`public`               |Tak|Tak|Tak|Tak|\n",
    "|`protected`            |Tak|Nie|Tak|Nie|\n",
    "|`internal`             |Tak|Tak|Nie|Nie|\n",
    "|`protected internal`   |Tak|Tak|Tak|Nie|\n",
    "|`private protected`    |Tak|Nie|Nie|Nie|\n",
    "\n",
    "Modyfikator `protected internal` zawiera sumę logiczną `protected` i `internal`. Z kolei `private protected` umożliwia dostęp tylko klasą pochodnym w ramach tego samego modułu.\n",
    "\n",
    "Przykładowe użycie dowolnego modyfikator może wygląda następująco:"
   ]
  },
  {
   "cell_type": "code",
   "execution_count": null,
   "metadata": {
    "dotnet_interactive": {
     "language": "csharp"
    }
   },
   "outputs": [],
   "source": [
    "public class SimpleClass\n",
    "{\n",
    "   private int Field; \n",
    "   public int Property { get; protected set; }\n",
    "   public SimpleClass(){} //konstruktor\n",
    "   ~SimpleClass(){} //destruktor\n",
    "   public void DoSomething(int field)\n",
    "   {\n",
    "      Field = field;\n",
    "   }\n",
    "}"
   ]
  },
  {
   "cell_type": "markdown",
   "metadata": {},
   "source": [
    "## Dziedziczenie\n",
    "\n",
    "Język C# umożliwia dziedziczenie jednokrotne (dla klas) i wielokrotne dla interfejsów. Dostępne są również konstrukcje języka `base` (odwołanie do instancji bazowej) i `this` (odwołanie do bieżącej instancji). Dziedziczenie powoduje tworzenie klasy szczegółowej na podstawie ogólnej klasy bazowej. Poniżej znajduje się przykład dziedziczenia:"
   ]
  },
  {
   "cell_type": "code",
   "execution_count": null,
   "metadata": {
    "dotnet_interactive": {
     "language": "csharp"
    }
   },
   "outputs": [],
   "source": [
    "public class SpecificClass: SimpleClass\n",
    "{\n",
    "   private int Field2; \n",
    "   \n",
    "   public SpecificClass()\n",
    "   : base() \n",
    "   {\n",
    "      base.Property = 2;\n",
    "      this.Field2 = 2;\n",
    "   }\n",
    "}"
   ]
  },
  {
   "cell_type": "markdown",
   "metadata": {},
   "source": [
    "Dziedziczymy pola, metody, właściwości i zdarzenia. W zależności od modyfikatora dostępu do tych elementów, w klasie pochodnej możemy z nich skorzystać lub nie.\n",
    "\n",
    "## Polimorfizm\n",
    "\n",
    "Pozwala przeciążać metody bazowe umożliwiając ich uszczegółowienie lub zmianę znaczenia. Przykładowo:"
   ]
  },
  {
   "cell_type": "code",
   "execution_count": 1,
   "metadata": {
    "dotnet_interactive": {
     "language": "csharp"
    }
   },
   "outputs": [],
   "source": [
    "public class A\n",
    "{\n",
    "   public virtual void Method1() { }\n",
    "}\n",
    "public class B : A\n",
    "{\n",
    "   public override void Method1() \n",
    "   { \n",
    "      base.Method1();//metoda bazowa\n",
    "   }\n",
    "}\t\t"
   ]
  },
  {
   "cell_type": "markdown",
   "metadata": {},
   "source": [
    "## Abstrakcja\n",
    "\n",
    "Poprzez abstrakcję należy rozumieć pewien interfejs, który musi być zaimplementowany w klasie potomnej. Gwarantuje to występowanie metod i właściwości w klasach potomnych. Interfejs to szablon i nie może posiadać instancji. Podobnie jak klasa abstrakcyjna, która może oprócz interfejsu posiadać implementację niektórych metod. Może również wymuszać na obiektach dziedziczących implementacje metod bądź pól."
   ]
  },
  {
   "cell_type": "code",
   "execution_count": 1,
   "metadata": {
    "dotnet_interactive": {
     "language": "csharp"
    }
   },
   "outputs": [],
   "source": [
    "public interface SimpleInterface\n",
    "{\n",
    "   Int32 Property { get; set; }\n",
    "   void Method1();        \n",
    "}\n",
    "\n",
    "public abstract class SimpleAbstract\n",
    "{\n",
    "   Int32 Property { get; set; }\n",
    "   public abstract void Method1();\n",
    "\n",
    "   public void Method2()\n",
    "   {\n",
    "   }\n",
    "}"
   ]
  },
  {
   "cell_type": "markdown",
   "metadata": {},
   "source": [
    "## Typy dynamiczne\n",
    "\n",
    "Umożliwiają w czasie wykonania aplikacji tworzenie klasy. Należy odróżnić słowo kluczowe `var` od deklaracji zmiennej dynamicznej `dynamic`. W pierwszym przypadku kompilator przekaże za nas typ. Jest to skrócony zapis konkretnego typu znanego w czasie kompilacji. W drugim przypadku typ tworzony jest w czasie działania programu. Zbyt częste użycie typu dynamicznego może spowolnić działanie programu. Dodatkowo typ `dynamic` może być użyty jako typ parametru funkcji."
   ]
  },
  {
   "cell_type": "code",
   "execution_count": 1,
   "metadata": {
    "dotnet_interactive": {
     "language": "csharp"
    }
   },
   "outputs": [],
   "source": [
    "dynamic dynClass = new\n",
    "{\n",
    "   Prop1 = 12,\n",
    "   Prop2 = \"Test\"\n",
    "};"
   ]
  },
  {
   "cell_type": "markdown",
   "metadata": {},
   "source": [
    "## Static\n",
    "\n",
    "Wszystkie elementy klasy mogą być statyczne. Statyczność klasy powoduje, że istnieje tylko jedna instancja. Tworzeniem klas statycznych zajmuje się środowisko wykonawcze platformy `.NET`. Innym sposobem na tworzenie tylko jednej instancji klasy jest wzorzec projektowy `singleton`:"
   ]
  },
  {
   "cell_type": "code",
   "execution_count": 1,
   "metadata": {
    "dotnet_interactive": {
     "language": "csharp"
    }
   },
   "outputs": [
    {
     "ename": "Error",
     "evalue": "[object Object]",
     "output_type": "error",
     "traceback": []
    }
   ],
   "source": [
    "public class JustOne\n",
    "{\n",
    "    private static Single singleInstance;\n",
    "    private JustOne() {} //konstruktor prywatny    \n",
    "    public static JustOne GetInstance() \n",
    "    {\n",
    "      singleInstance = singleInstance ?? new JustOne();\n",
    "      return singleInstance;\n",
    "    }\n",
    "}"
   ]
  },
  {
   "cell_type": "markdown",
   "metadata": {},
   "source": [
    "Operator `??` jest operatorem binarnym. W przypadku, gdy jego lewy argument ma wartość `null` wykonuje instrukcje zawarte w prawym argumencie.\n",
    "\n",
    "Klasy statyczne mogę też zastępować typ wyliczeniowy `enum` np.:"
   ]
  },
  {
   "cell_type": "code",
   "execution_count": 1,
   "metadata": {
    "dotnet_interactive": {
     "language": "csharp"
    }
   },
   "outputs": [],
   "source": [
    "public static class PersonType\n",
    "{\n",
    "    public static readonly string Teacher = \"T\";\n",
    "    public static readonly string Student = \"S\";\n",
    "}"
   ]
  },
  {
   "cell_type": "markdown",
   "metadata": {},
   "source": [
    "## Zdarzenia\n",
    "\n",
    "Zdarzenia deklarujemy podobnie jak pola klasy. Służą do wywoływania metod do obsługi tych zdarzeń z klas zewnętrznych. Przykładowo klasa realizująca zapis do pliku może wywołać zdarzenie `Complete`. Poniższy listing przedstawia obsługę zdarzenia:"
   ]
  },
  {
   "cell_type": "code",
   "execution_count": null,
   "metadata": {
    "dotnet_interactive": {
     "language": "csharp"
    }
   },
   "outputs": [],
   "source": [
    "public class Writer\n",
    "{\n",
    "  public EventHandler<bool> Complete;\n",
    "\n",
    "  public void Write(string fileName)\n",
    "  {\n",
    "    OnComplete(true);\n",
    "  }\n",
    "\n",
    "  public void OnComplete(bool status)\n",
    "  {\n",
    "    if (Complete != null)\n",
    "      Complete(this, status);\n",
    "    //lub prosciej\n",
    "    Complete?.Invoke(this, status);\n",
    "  }\n",
    "}\n",
    "\n",
    "static void Main(string[] args)\n",
    "{\n",
    "    var writer = new Writer();\n",
    "    writer.Complete += (source, status) =>\n",
    "        Console.WriteLine(\"Write: {0}\", status);\n",
    "    \n",
    "    writer.Complete += AnotherHandler;\n",
    "\n",
    "    writer.Write(\"file.txt\");\n",
    "}\n",
    "static void AnotherHandler(object source, bool status)\n",
    "{\n",
    "\tConsole.WriteLine(\"Write: {0}\", status);\n",
    "}"
   ]
  },
  {
   "cell_type": "markdown",
   "metadata": {},
   "source": [
    "Wewnętrznie dodanie metody obsługi do zdarzenia realizowane jest podobnie do właściwości z tą różnicą, że zdarzenie posiada metody `add()` i `remove()`. Zamiast użycia klasy `EventHandler` można stworzyć własny szablon tzw. deletegat. Tworzenie delegata ilustruje poniższy listing:"
   ]
  },
  {
   "cell_type": "code",
   "execution_count": 1,
   "metadata": {
    "dotnet_interactive": {
     "language": "csharp"
    }
   },
   "outputs": [],
   "source": [
    "delegate void SomeHandler(object sender, bool status);"
   ]
  },
  {
   "cell_type": "markdown",
   "metadata": {},
   "source": [
    "Delegaty to szablony metod. Przypisanie metody do obsługi zdarzenia musi posiadać taką samą sygnaturę co delegat tzn. posiadać ten sam zwracany typ oraz te same argumenty.\n",
    "\n",
    "## Typy generyczne\n",
    "\n",
    "Deklaracja klasy generycznej wygląda bardzo podobnie do zwykłej klasy, ale posiada\n",
    "dodatkowe argumenty. Klasa generyczna jest odpowiednikiem szablonu w c++."
   ]
  },
  {
   "cell_type": "code",
   "execution_count": 1,
   "metadata": {
    "dotnet_interactive": {
     "language": "csharp"
    }
   },
   "outputs": [],
   "source": [
    "public class SimpleClass<T>\n",
    "{\n",
    "   public T Field; \n",
    "   public T Property { get; set; }\n",
    "   \n",
    "   public void DoSomething(T field)\n",
    "   {\n",
    "      Field = field;\n",
    "   }\n",
    "}"
   ]
  },
  {
   "cell_type": "markdown",
   "metadata": {},
   "source": [
    "## Ograniczenia argumentu generycznego\n",
    "\n",
    "Projektując klasy możemy wymusić typ argumentu dla klasy generycznej. Można zdefiniować następujące ograniczenia:\n",
    "\n",
    "* `T`: `struct` - argument musi być typem prostym,\n",
    "* `T` : `class` - argumentem musi być klasa,\n",
    "* `T` : `new()` - argument musi posiadać konstruktor bezparametrowy,\n",
    "* `T` : `base_class_name` - argument musi dziedziczyć po *base_class_name*,\n",
    "* `T` : `interface_name` - argument musi implementować *interface_name*,\n",
    "* `T` : `U` - argument `T` musi dziedziczyć po argumencie `U`."
   ]
  },
  {
   "cell_type": "code",
   "execution_count": 1,
   "metadata": {
    "dotnet_interactive": {
     "language": "csharp"
    }
   },
   "outputs": [
    {
     "ename": "Error",
     "evalue": "[object Object]",
     "output_type": "error",
     "traceback": []
    }
   ],
   "source": [
    "public class GenericClass<T> where T : Student"
   ]
  },
  {
   "cell_type": "markdown",
   "metadata": {},
   "source": [
    "## Indeksery\n",
    "\n",
    "Każda klasa może posiadać tzw. indekser. Użycie indeksera przypomina użycie tablicy. Przykładowy indekser przedstawia poniższy listing:"
   ]
  },
  {
   "cell_type": "code",
   "execution_count": 1,
   "metadata": {
    "dotnet_interactive": {
     "language": "csharp"
    }
   },
   "outputs": [
    {
     "ename": "Error",
     "evalue": "[object Object]",
     "output_type": "error",
     "traceback": []
    }
   ],
   "source": [
    "public T this[int i]\n",
    "{\n",
    "   get\n",
    "   {            \n",
    "   }\n",
    "   set\n",
    "   {            \n",
    "   }\n",
    "}\n",
    "...\n",
    "IntCollection<int> col = new IntCollection<int>();\n",
    "col[0] = 12;"
   ]
  },
  {
   "cell_type": "markdown",
   "metadata": {},
   "source": [
    "## *Tuple*\n",
    "\n",
    "W przypadku, gdy funkcje zawierają więcej, niż jedną zmienną można utworzyć dedykowaną klasę lub krotkę (ang. *tuple*) w wersji nazwanej (z podanymi nazwami pól w deklaracji) lub nienazwanej (kolejne pola nazywają się *`item1`*, *`item2`* itd)."
   ]
  },
  {
   "cell_type": "code",
   "execution_count": null,
   "metadata": {
    "dotnet_interactive": {
     "language": "csharp"
    }
   },
   "outputs": [
    {
     "name": "stdout",
     "output_type": "stream",
     "text": [
      "Person 1: Jan Kowalski\r\n",
      "Person 2: Jan Kowalski\r\n"
     ]
    }
   ],
   "source": [
    "public (string name, string surname) tuple_function() {\n",
    "    return (\"Jan\", \"Kowalski\");\n",
    "}\n",
    "\n",
    "var person = tuple_function(); \n",
    "\n",
    "Console.WriteLine($\"Person 1: {person.name} {person.surname}\");\n",
    "\n",
    "(string name, string surname) = tuple_function(); //unboxing\n",
    "\n",
    "Console.WriteLine($\"Person 2: {name} {surname}\");"
   ]
  },
  {
   "cell_type": "markdown",
   "metadata": {},
   "source": [
    "## Rekord\n",
    "\n",
    "Rekordy postały z myślą o nowych mechanizmach języka. Pod względem kopiowania (przypisywania) zachowują się jak struktury, ale są typami referencyjnymi. Poniżej znajdują się przykładowe operacje na tych typach niemożliwe do użycia z klasami czy strukturami."
   ]
  },
  {
   "cell_type": "code",
   "execution_count": null,
   "metadata": {
    "dotnet_interactive": {
     "language": "csharp"
    }
   },
   "outputs": [
    {
     "name": "stdout",
     "output_type": "stream",
     "text": [
      "StudentRecord { FirstName = Mads, LastName = Torgersen, Id = 1 }\r\n",
      "StudentRecord { FirstName = Mads, LastName = Kowalski, Id = 2 }\r\n"
     ]
    }
   ],
   "source": [
    "public record StudentRecord \n",
    "{ \n",
    "    public string FirstName { get; init; } \n",
    "    public string LastName { get; init; }\n",
    "    public int Id { get; init; }\n",
    "    public StudentRecord(string firstName, string lastName, int id) \n",
    "      => (FirstName, LastName, Id) = (firstName, lastName, id);\n",
    "    public void Deconstruct(out string firstName, out string lastName, out int id) // jak ma się zachowywać klasa w przypadku dekonstrukcji\n",
    "      => (firstName, lastName, id) = (FirstName, LastName, Id);\n",
    "}\n",
    "\n",
    "public record StudentRecord2(string FirstName, string LastName, int No); //tożsame z powyższym\n",
    "\n",
    "var student = new StudentRecord(\"Mads\", \"Torgersen\", 1);\n",
    "var (f, l, id) = student; \n",
    "\n",
    "var student2 = student with { LastName=\"Kowalski\", Id=2 };\n",
    "\n",
    "Console.WriteLine(student);\n",
    "Console.WriteLine(student2);"
   ]
  },
  {
   "cell_type": "markdown",
   "metadata": {},
   "source": [
    "## Przydatne techniki wbudowane w język\n",
    "\n",
    "Operując na plikach należy bezwzględnie zwalniać systemowy uchwyt do pliku metodą `Close()`. Nie wykonanie tej czynności powoduje, że pliku nie da się skasować oraz nadpisać. W przypadku, gdy klasa posiada zaimplementowaną metodę `Dispose()` można użyć konstrukcji:"
   ]
  },
  {
   "cell_type": "code",
   "execution_count": 1,
   "metadata": {
    "dotnet_interactive": {
     "language": "csharp"
    }
   },
   "outputs": [
    {
     "ename": "Error",
     "evalue": "[object Object]",
     "output_type": "error",
     "traceback": []
    }
   ],
   "source": [
    "using (StreamWriter outFile = new StreamWriter(path))\n",
    "{\n",
    "   outFile.WriteLine(\"lancuch\");\n",
    "}"
   ]
  },
  {
   "cell_type": "markdown",
   "metadata": {},
   "source": [
    "W powyższym listingu nie ma konieczności wywoływania metody `Close()` ponieważ zajmie się tym metoda `Dispose` wywołana niejawnie przy zakończeniu bloku \"\\}\". Powyższy zapis jest równoważny:"
   ]
  },
  {
   "cell_type": "code",
   "execution_count": 1,
   "metadata": {
    "dotnet_interactive": {
     "language": "csharp"
    }
   },
   "outputs": [
    {
     "ename": "Error",
     "evalue": "[object Object]",
     "output_type": "error",
     "traceback": []
    }
   ],
   "source": [
    "try\n",
    "{\n",
    "  StreamWriter outFile = new StreamWriter(path);\n",
    "  outFile.WriteLine(\"string data\");  \n",
    "}\n",
    "finally\n",
    "{\n",
    "  if(outFile != null)\n",
    "    outFile.Dispose();\n",
    "}"
   ]
  },
  {
   "cell_type": "markdown",
   "metadata": {},
   "source": [
    "## Interpolacja łańcuchów znaków c.d.\n",
    "\n",
    "Jedną z nowych funkcji w specyfikacji języka jest technika interpolacji łańcuchów znaków, bardzo często spotykana we nowoczesnych językach programowania, takich jak *Python*. Zamiast używać operatora plus do łączenia napisów, programista może sformatować napis. W poprzednim pliku temat został już omówiony, w tym miejscu zostały jedynie dodane inne operacje formatowania. "
   ]
  },
  {
   "cell_type": "code",
   "execution_count": 1,
   "metadata": {
    "dotnet_interactive": {
     "language": "csharp"
    }
   },
   "outputs": [
    {
     "data": {
      "text/plain": [
       "Integer 1, double: 2,12345 and double formated one: 2,1\r\n"
      ]
     },
     "execution_count": 1,
     "metadata": {},
     "output_type": "execute_result"
    },
    {
     "data": {
      "text/plain": [
       "Now is: 13:21\r\n"
      ]
     },
     "execution_count": 1,
     "metadata": {},
     "output_type": "execute_result"
    }
   ],
   "source": [
    "int value = 1;\n",
    "double value2 = 2.12345;\n",
    "\n",
    "Console.WriteLine($\"Integer {value}, double: {value2} and double formated one: {value2:0.0}\");\n",
    "var date = DateTime.Now;\n",
    "Console.WriteLine($\"Now is: {date:HH:mm}\")"
   ]
  },
  {
   "cell_type": "markdown",
   "metadata": {},
   "source": [
    "## Przydatne klasy\n",
    "\n",
    "Najczęściej wykorzystywanymi klasami są lista (`List`, `Queue`, `Array`). Przykład użycia listy:"
   ]
  },
  {
   "cell_type": "code",
   "execution_count": 1,
   "metadata": {
    "dotnet_interactive": {
     "language": "csharp"
    }
   },
   "outputs": [],
   "source": [
    "//lista\n",
    "List<Int32> list = new List<int>();\n",
    "list.Add(12);\n",
    "//kolejka\n",
    "Queue<Int32> queue = new Queue<int>();\n",
    "queue.Enqueue(12);\n",
    "Int32 last = queue.Dequeue();"
   ]
  },
  {
   "cell_type": "markdown",
   "metadata": {},
   "source": [
    "### Klasa `ConfigurationManager`\n",
    "\n",
    "Często spotykanym podejściem do tworzenia oprogramowania jest uzależnienie wykonania programu od globalnych parametrów wejściowych. Jest to bardzo wygodne podeście ze względu na cykl życia aplikacji. Przykładowo, gdy program łączy się z bazą danych, na etapie testowania połączenie powinno odbywać się z instancją deweloperską bazą danych. Z kolei, gdy program zostanie wdrożony na środowisko produkcyjne, program powinien łączyć się z instancją produkcyjną bazy danych. W środowisku `.NET` powstała specjalna klasa `ConfigurationManager`, która umożliwia w łatwy sposób korzystanie z pliku konfiguracyjnego w formacie `XML` `App.config`. Po etapie kompilacji projektu konfiguracja zostanie przeniesiona do pliku `plik.exe.config`. Klasa `ConfigurationManager` dostępna jest po dodaniu referencji `System.Configuration` do projektu. Można to zrobić klikając prawym przyciskiem myszy na projekt i wybranie opcji `Add` `Reference...`. Poniższy listing przedstawia użycie klasy:"
   ]
  },
  {
   "cell_type": "code",
   "execution_count": 1,
   "metadata": {
    "dotnet_interactive": {
     "language": "csharp"
    }
   },
   "outputs": [
    {
     "ename": "Error",
     "evalue": "[object Object]",
     "output_type": "error",
     "traceback": []
    }
   ],
   "source": [
    "public static void Main(string[] args)\n",
    "{  \n",
    "  var strCount = ConfigurationManager.AppSettings[\"Count\"];\n",
    "  var count = int.Parse(strCount);\n",
    "}"
   ]
  },
  {
   "cell_type": "markdown",
   "metadata": {},
   "source": [
    "Przy takiej konfiguracji plik `App.config` powinien wyglądać następująco:"
   ]
  },
  {
   "cell_type": "code",
   "execution_count": 1,
   "metadata": {
    "dotnet_interactive": {
     "language": "javascript"
    }
   },
   "outputs": [
    {
     "data": {
      "text/html": [
       "<script type=\"text/javascript\">if (typeof window.createDotnetInteractiveClient === typeof Function) {\r\n",
       "createDotnetInteractiveClient('http://localhost:62348/').then(async function (interactive) {\r\n",
       "let notebookScope = getDotnetInteractiveScope('http://localhost:62348/');\r\n",
       "<?xml version=\"1.0\" encoding=\"utf-8\" ?>\n",
       "<configuration>\n",
       "  <appSettings>\n",
       "    <add key=\"Count\" value=\"20\"/>\n",
       "  </appSettings>\n",
       "</configuration>\r\n",
       "});\r\n",
       "}</script>"
      ]
     },
     "execution_count": 1,
     "metadata": {},
     "output_type": "execute_result"
    }
   ],
   "source": [
    "<?xml version=\"1.0\" encoding=\"utf-8\" ?>\n",
    "<configuration>\n",
    "  <appSettings>\n",
    "    <add key=\"Count\" value=\"20\"/>\n",
    "  </appSettings>\n",
    "</configuration>"
   ]
  },
  {
   "cell_type": "markdown",
   "metadata": {},
   "source": [
    "### Klasa `StringBuilder`\n",
    "W przypadku konkatenacji wielu łańcuchów znaków należy używać klasy `StringBuilder`:"
   ]
  },
  {
   "cell_type": "code",
   "execution_count": 1,
   "metadata": {
    "dotnet_interactive": {
     "language": "csharp"
    }
   },
   "outputs": [
    {
     "ename": "Error",
     "evalue": "[object Object]",
     "output_type": "error",
     "traceback": []
    }
   ],
   "source": [
    "StringBuilder builder = new StringBuilder();\n",
    "   \n",
    "foreach(var person in collection)\n",
    "{\n",
    "   builder.Append(person.Name);\n",
    "}      "
   ]
  },
  {
   "cell_type": "markdown",
   "metadata": {},
   "source": [
    "### Funkcja `Format`\n",
    "Formatowanie tekstu to jedno z najczęstszych zadań programistycznych. Z tego powodu na platformie `.NET` udostępniono metodę `format`. Jest ona zaimplementowana zarówno w klasie `StringBuilder` w metodzie `AppendFormat()` jak i `string.Format()`:"
   ]
  },
  {
   "cell_type": "code",
   "execution_count": null,
   "metadata": {
    "dotnet_interactive": {
     "language": "csharp"
    }
   },
   "outputs": [
    {
     "ename": "Error",
     "evalue": "(2,47): error CS1002: Oczekiwano średnika (;)\r\n(2,47): error CS7017: Oczekiwano definicji składowej, instrukcji albo znacznika końca pliku\r\n(2,50): error CS1002: Oczekiwano średnika (;)\r\n(2,50): error CS7017: Oczekiwano definicji składowej, instrukcji albo znacznika końca pliku\r\n(2,52): error CS1002: Oczekiwano średnika (;)\r\n(2,52): error CS7017: Oczekiwano definicji składowej, instrukcji albo znacznika końca pliku\r\n(4,41): error CS1002: Oczekiwano średnika (;)\r\n(4,41): error CS7017: Oczekiwano definicji składowej, instrukcji albo znacznika końca pliku\r\n(4,51): error CS1002: Oczekiwano średnika (;)\r\n(4,51): error CS7017: Oczekiwano definicji składowej, instrukcji albo znacznika końca pliku\r\n(6,32): error CS1002: Oczekiwano średnika (;)\r\n(6,32): error CS7017: Oczekiwano definicji składowej, instrukcji albo znacznika końca pliku\r\n(6,48): error CS1002: Oczekiwano średnika (;)\r\n(6,48): error CS7017: Oczekiwano definicji składowej, instrukcji albo znacznika końca pliku",
     "output_type": "error",
     "traceback": [
      "(2,47): error CS1002: Oczekiwano średnika (;)\r\n",
      "(2,47): error CS7017: Oczekiwano definicji składowej, instrukcji albo znacznika końca pliku\r\n",
      "(2,50): error CS1002: Oczekiwano średnika (;)\r\n",
      "(2,50): error CS7017: Oczekiwano definicji składowej, instrukcji albo znacznika końca pliku\r\n",
      "(2,52): error CS1002: Oczekiwano średnika (;)\r\n",
      "(2,52): error CS7017: Oczekiwano definicji składowej, instrukcji albo znacznika końca pliku\r\n",
      "(4,41): error CS1002: Oczekiwano średnika (;)\r\n",
      "(4,41): error CS7017: Oczekiwano definicji składowej, instrukcji albo znacznika końca pliku\r\n",
      "(4,51): error CS1002: Oczekiwano średnika (;)\r\n",
      "(4,51): error CS7017: Oczekiwano definicji składowej, instrukcji albo znacznika końca pliku\r\n",
      "(6,32): error CS1002: Oczekiwano średnika (;)\r\n",
      "(6,32): error CS7017: Oczekiwano definicji składowej, instrukcji albo znacznika końca pliku\r\n",
      "(6,48): error CS1002: Oczekiwano średnika (;)\r\n",
      "(6,48): error CS7017: Oczekiwano definicji składowej, instrukcji albo znacznika końca pliku"
     ]
    }
   ],
   "source": [
    "//wyswietlenie\n",
    "string.Format(\"First argument {0}, drugi {1}\"), 1,2);\n",
    "//zaokraglenie\n",
    "string.Format(\"First argument {0:0.00}\"), 1.255555);\n",
    "//daty\n",
    "string.Format(\"{0:yyyy-MM-dd}\"), DateTime.Now());\n",
    "//dopelnienie ciagu znakow\n",
    "string.Format(\"{0,22}\", \"Znaki\");\n",
    "string.Format(\"{0,22}\", \"Znaki_Znaki\");"
   ]
  },
  {
   "cell_type": "markdown",
   "metadata": {},
   "source": [
    "## Zadania do wykonania\n",
    "\n",
    "### Zadanie 1\n",
    "\n",
    "Zaprojektuj klasę abstrakcyjną / rekord, która wyznacza pole, obwód oraz zwraca długości boków trójkąta (dowolnego). Klasami dziedziczącymi z tej klasy ma być trójkąt:\n",
    "* równoboczny (konstruktor z jednym parametrem),\n",
    "* równoramienny (konstruktor z dwoma parametrami - dwa różne boki),\n",
    "* prostokątny (konstruktor z z dwoma parametrami - długości przyprostokątne).\n",
    "\n",
    "> Przeciąż metodę `ToString()`, która ma zawierać zestaw podstawowych informacji. Zadanie można zrealizować na dwa sposoby: \n",
    "1. metody do obliczeń pola i obwodu zaimplementować w klasie abstrakcyjnej używając wzoru:"
   ]
  },
  {
   "cell_type": "markdown",
   "metadata": {},
   "source": [
    "$\n",
    "\tP =\\sqrt{p\\cdot(p-A)\\cdot(p-B)\\cdot(p-C)}\n",
    "$"
   ]
  },
  {
   "cell_type": "markdown",
   "metadata": {},
   "source": [
    "gdzie: $p$ to połowa obwodu trójkąta. Symbole $A$, $B$, $C$ to długości poszczególnych boków. Oznaczyć metody obliczające pole i obwód jako abstrakcyjne i przeciążyć je w klasie szczegółowej.\n",
    "\n",
    "Metoda `ToString` powinna być przeciążona w klasie abstrakcyjnej."
   ]
  },
  {
   "cell_type": "code",
   "execution_count": 2,
   "metadata": {
    "dotnet_interactive": {
     "language": "csharp"
    }
   },
   "outputs": [
    {
     "name": "stdout",
     "output_type": "stream",
     "text": [
      "\n",
      "SideA: 3\n",
      "SideB: 3\n",
      "SideC: 3\n",
      "Area: 3,897114317029974\n",
      "Circuit: 9\n",
      "\n",
      "SideA: 5\n",
      "SideB: 7\n",
      "SideC: 7\n",
      "Area: 16,345871038277526\n",
      "Circuit: 19\n",
      "\n",
      "SideA: 6\n",
      "SideB: 8\n",
      "SideC: 10\n",
      "Area: 24\n",
      "Circuit: 24\n"
     ]
    }
   ],
   "source": [
    "public abstract class Triangle\n",
    "{\n",
    "    public double sideA;\n",
    "    public double SideA\n",
    "    {\n",
    "        get { return sideA; }\n",
    "        set { sideA = value; }\n",
    "    }\n",
    "    public double sideB;\n",
    "    public double SideB\n",
    "    {\n",
    "        get { return sideB; }\n",
    "        set { sideB = value; }\n",
    "    }\n",
    "    public double sideC;\n",
    "    public double SideC\n",
    "    {\n",
    "        get { return sideC; }\n",
    "        set { sideC = value; }\n",
    "    }\n",
    "    public double area()\n",
    "    {\n",
    "        double p = circuit()/2;\n",
    "        return Math.Sqrt( p * (p - sideA) * (p - sideB) * (p - sideC) );\n",
    "    }\n",
    "    public double circuit()\n",
    "    {\n",
    "        return sideA+sideB+sideC;\n",
    "    }\n",
    "    public override string ToString()\n",
    "    {\n",
    "        return ($\"\\nSideA: {sideA}\\nSideB: {sideB}\\nSideC: {sideC}\\nArea: {area()}\\nCircuit: {circuit()}\");\n",
    "    }\n",
    "}\n",
    "public class Equilateral : Triangle  //trojkat rownoboczny\n",
    "{\n",
    "    public Equilateral(double sideA)\n",
    "    {\n",
    "        SideA = sideA;\n",
    "        SideB = sideA;\n",
    "        SideC = sideA;\n",
    "    }\n",
    "    ~Equilateral(){}\n",
    "}\n",
    "public class Isosceles : Triangle  //trojkat rownoramienny\n",
    "{\n",
    "    public Isosceles(double sideA, double sideB)\n",
    "    {\n",
    "        SideA = sideA;\n",
    "        SideB = sideB;\n",
    "        SideC = sideB;\n",
    "    }\n",
    "    ~Isosceles(){}\n",
    "}\n",
    "public class Rectangular : Triangle  //trojkat prostokatny\n",
    "{\n",
    "    public Rectangular(double sideA, double sideB)\n",
    "    {\n",
    "        SideA = sideA;\n",
    "        SideB = sideB;\n",
    "        SideC = Math.Sqrt(Math.Pow(sideA, 2) + Math.Pow(sideB, 2));\n",
    "    }\n",
    "    ~Rectangular(){}\n",
    "}\n",
    "\n",
    "Equilateral eqo = new Equilateral(3);\n",
    "Isosceles iso = new Isosceles(5, 7);\n",
    "Rectangular rec = new Rectangular(6, 8);\n",
    "Console.WriteLine(eqo.ToString());\n",
    "Console.WriteLine(iso.ToString());\n",
    "Console.WriteLine(rec.ToString());"
   ]
  },
  {
   "cell_type": "markdown",
   "metadata": {},
   "source": [
    "### Zadanie 2\n",
    "\n",
    "Utwórz klasę generyczną kartoteka pracowników, która umożliwia:\n",
    "\n",
    "* dodawanie/usuwanie,\n",
    "* wyświetlanie,\n",
    "* walidację istniejących już pracowników,\n",
    "* wyszukiwanie danych. \n",
    "\n",
    "Klasa pracownik musi zawierać przynajmniej 5 cech. Każdy pracownik powinien posiadać stanowisko pracy. Klasa powinna zawierać walidację danych (poprzez metodę `Validate()`). Klasa pracownik powinna zawierać metody `Show()` i `IsMatch()`, z których będzie korzystała kartoteka przy wyszukiwaniu.\n",
    "\n",
    "Przy wyświetlaniu pomocna może okazać się metoda `Format()`."
   ]
  },
  {
   "cell_type": "code",
   "execution_count": 31,
   "metadata": {},
   "outputs": [
    {
     "name": "stdout",
     "output_type": "stream",
     "text": [
      "23456, Wiktor, Materla, 12-05-2007, 3800, AD_CDEF\n",
      "34567, Karol, Nowak, 13-05-2007, 4200, AC_CDEF\n",
      "45678, Matylda, Kowalczyk, 12-05-2007, 5500, AB_CDEF\n"
     ]
    }
   ],
   "source": [
    "public class Employee {   \n",
    "    public string employeeId {get; set; }\n",
    "    public string firstName { get; set; }\n",
    "    public string lastName { get; set; }\n",
    "    public string hireDate { get; set; }\n",
    "    public double salary { get; set; }\n",
    "    public string workplace { get; set; }\n",
    "    \n",
    "    public Employee(string employeeId, string firstName, string lastName, string hireDate, double salary, string workplace) {\n",
    "        this.employeeId = employeeId;\n",
    "        this.firstName = firstName;\n",
    "        this.lastName = lastName;\n",
    "        this.hireDate = hireDate;\n",
    "        this.salary = salary;\n",
    "        this.workplace = workplace;\n",
    "    }\n",
    "\n",
    "    public void Validate() {\n",
    "        if (String.IsNullOrEmpty(employeeId) || String.IsNullOrEmpty(firstName) || String.IsNullOrEmpty(lastName) || String.IsNullOrEmpty(hireDate) || String.IsNullOrEmpty(workplace)) \n",
    "        {\n",
    "           throw new Exception(\"Incorrect\");\n",
    "        }\n",
    "        else if (salary <= 0) \n",
    "        {\n",
    "            throw new Exception(\"Incorrect\");\n",
    "        }\n",
    "    }\n",
    "\n",
    "    public string Show() {\n",
    "        return String.Format((\"{0}, {1}, {2}, {3}, {4}, {5}\"), employeeId, firstName, lastName, hireDate, salary, workplace);\n",
    "    }\n",
    "\n",
    "    public bool IsMatch(string search)\n",
    "    {\n",
    "        return search.Equals(employeeId) || search.Equals(firstName) || search.Equals(lastName) || search.Equals(hireDate) || search.Equals(workplace)  ? true : false;\n",
    "    }\n",
    "\n",
    "    public bool IsMatch(Employee emp)\n",
    "    {\n",
    "        return employeeId.Equals(emp.employeeId)  ? true : false;\n",
    "    }\n",
    "}\n",
    "\n",
    "public class EmployeesCard<T> where T : Employee {\n",
    "    private List<T> _list = new List<T>();\n",
    "\n",
    "    public EmployeesCard() {}\n",
    "\n",
    "    public void Add(T t) {\n",
    "        _list.Add(t);\n",
    "    }\n",
    "\n",
    "    public void Remove(T t) {\n",
    "        _list.Remove(t);\n",
    "    }\n",
    "\n",
    "    public void Show()\n",
    "    {\n",
    "        _list.ForEach(item => Console.WriteLine(\"{0}\", item.Show()));\n",
    "    }\n",
    "\n",
    "    public void Show(T t)\n",
    "    {\n",
    "        Console.WriteLine(t.Show());\n",
    "    }\n",
    "\n",
    "    public void Show(List<T> t)\n",
    "    {\n",
    "        t.ForEach(item => Console.WriteLine(\"{0}\", item.Show()));\n",
    "    }\n",
    "\n",
    "    public bool ValidateExist(T t)\n",
    "    {\n",
    "        foreach (var item in _list)\n",
    "        {\n",
    "            if (item.IsMatch(t))\n",
    "            {\n",
    "                return true;\n",
    "            }\n",
    "        }\n",
    "        return false;\n",
    "    }\n",
    "\n",
    "    public T Search(string search)\n",
    "    {\n",
    "        foreach (T item in _list)\n",
    "        {\n",
    "            if (item.IsMatch(search))\n",
    "            {\n",
    "                return item;\n",
    "            }\n",
    "        }\n",
    "        return null;\n",
    "    }\n",
    "}\n",
    "\n",
    "\n",
    "EmployeesCard<Employee> department = new EmployeesCard<Employee>();\n",
    "department.Add(new Employee(\"23456\", \"Wiktor\", \"Materla\", \"12-05-2007\", 3800, \"AD_CDEF\"));\n",
    "department.Add(new Employee(\"34567\", \"Karol\", \"Nowak\", \"13-05-2007\", 4200, \"AC_CDEF\"));\n",
    "department.Add(new Employee(\"45678\", \"Matylda\", \"Kowalczyk\", \"12-05-2007\", 5500, \"AB_CDEF\"));\n",
    "department.Show();"
   ]
  },
  {
   "cell_type": "markdown",
   "metadata": {},
   "source": [
    "### Zadanie 3\n",
    "\n",
    "Dodaj do kartoteki z pierwszego zadania odczytywanie i zapisywanie danych w formacie TXT, XML oraz JSON (minimum jeden). Wykorzystaj do tego celu wzorzec projektowy budowniczy. Abstrakcję konkretnego zapisu można przekazać do konstruktora kartoteki, która posiada metodę `Save()`."
   ]
  },
  {
   "cell_type": "code",
   "execution_count": 41,
   "metadata": {},
   "outputs": [
    {
     "name": "stdout",
     "output_type": "stream",
     "text": [
      "23456, Wiktor, Materla, 12-05-2007, 3800, AD_CDEF\n",
      "34567, Karol, Nowak, 13-05-2007, 4200, AC_CDEF\n",
      "45678, Matylda, Kowalczyk, 12-05-2007, 5500, AB_CDEF\n",
      "{\"employeeId\":\"23456\",\"firstName\":\"Wiktor\",\"lastName\":\"Materla\",\"hireDate\":\"12-05-2007\",\"salary\":3800,\"workplace\":\"AD_CDEF\"}\n",
      "{\"employeeId\":\"34567\",\"firstName\":\"Karol\",\"lastName\":\"Nowak\",\"hireDate\":\"13-05-2007\",\"salary\":4200,\"workplace\":\"AC_CDEF\"}\n",
      "{\"employeeId\":\"45678\",\"firstName\":\"Matylda\",\"lastName\":\"Kowalczyk\",\"hireDate\":\"12-05-2007\",\"salary\":5500,\"workplace\":\"AB_CDEF\"}\n"
     ]
    }
   ],
   "source": [
    "using System;\n",
    "using System.Text.RegularExpressions;\n",
    "using System.Text.Json;\n",
    "using System.IO;\n",
    "\n",
    "public interface IBuilder\n",
    "{\n",
    "    string file_type { get; set; }\n",
    "    string f_path { get; set; }\n",
    "\n",
    "    void CreateFile(string path);\n",
    "    string ParseData(Employee emp);\n",
    "}\n",
    "\n",
    "public class JsonBuilder : IBuilder\n",
    "{\n",
    "    public string file_type { get; set; } = \".json\";\n",
    "    public string f_path { get; set; } = \"\";\n",
    "\n",
    "    public void CreateFile(string path)\n",
    "    {\n",
    "        f_path = path + file_type;\n",
    "        StreamWriter sw = File.CreateText(f_path);\n",
    "        sw.Close();\n",
    "    }\n",
    "\n",
    "    public string ParseData(Employee emp)\n",
    "    {\n",
    "        return JsonSerializer.Serialize(emp);\n",
    "    }\n",
    "}\n",
    "\n",
    "public class Employee\n",
    "{\n",
    "    public string employeeId {get; set; }\n",
    "    public string firstName { get; set; }\n",
    "    public string lastName { get; set; }\n",
    "    public string hireDate { get; set; }\n",
    "    public double salary { get; set; }\n",
    "    public string workplace { get; set; }\n",
    "    \n",
    "    public Employee(string employeeId, string firstName, string lastName, string hireDate, double salary, string workplace) {\n",
    "        this.employeeId = employeeId;\n",
    "        this.firstName = firstName;\n",
    "        this.lastName = lastName;\n",
    "        this.hireDate = hireDate;\n",
    "        this.salary = salary;\n",
    "        this.workplace = workplace;\n",
    "    }\n",
    "\n",
    "    public void Validate() {\n",
    "        if (String.IsNullOrEmpty(employeeId) || String.IsNullOrEmpty(firstName) || String.IsNullOrEmpty(lastName) || String.IsNullOrEmpty(hireDate) || String.IsNullOrEmpty(workplace)) \n",
    "        {\n",
    "           throw new Exception(\"Incorrect\");\n",
    "        }\n",
    "        else if (salary <= 0) \n",
    "        {\n",
    "            throw new Exception(\"Incorrect\");\n",
    "        }\n",
    "    }\n",
    "\n",
    "    public string Show() {\n",
    "        return String.Format((\"{0}, {1}, {2}, {3}, {4}, {5}\"), employeeId, firstName, lastName, hireDate, salary, workplace);\n",
    "    }\n",
    "\n",
    "    public bool IsMatch(string search)\n",
    "    {\n",
    "        return search.Equals(employeeId) || search.Equals(firstName) || search.Equals(lastName) || search.Equals(hireDate) || search.Equals(workplace)  ? true : false;\n",
    "    }\n",
    "\n",
    "    public bool IsMatch(Employee emp)\n",
    "    {\n",
    "        return employeeId.Equals(emp.employeeId)  ? true : false;\n",
    "    }\n",
    "}\n",
    "\n",
    "public class EmployeesCard<T> where T : Employee {\n",
    "    private IBuilder ib;\n",
    "    private List<T> _list = new List<T>();\n",
    "\n",
    "    public EmployeesCard() {}\n",
    "    public EmployeesCard(IBuilder ib) {\n",
    "        this.ib = ib;\n",
    "    }\n",
    "\n",
    "    public void Add(T t) {\n",
    "        _list.Add(t);\n",
    "    }\n",
    "\n",
    "    public void Remove(T t) {\n",
    "        _list.Remove(t);\n",
    "    }\n",
    "\n",
    "    public void Show()\n",
    "    {\n",
    "        _list.ForEach(item => Console.WriteLine(\"{0}\", item.Show()));\n",
    "    }\n",
    "\n",
    "    public void Show(T t)\n",
    "    {\n",
    "        Console.WriteLine(t.Show());\n",
    "    }\n",
    "\n",
    "    public void Show(List<T> t)\n",
    "    {\n",
    "        t.ForEach(item => Console.WriteLine(\"{0}\", item.Show()));\n",
    "    }\n",
    "\n",
    "    public bool ValidateExist(T t)\n",
    "    {\n",
    "        foreach (var item in _list)\n",
    "        {\n",
    "            if (item.IsMatch(t))\n",
    "            {\n",
    "                return true;\n",
    "            }\n",
    "        }\n",
    "        return false;\n",
    "    }\n",
    "\n",
    "    public T Search(string search)\n",
    "    {\n",
    "        foreach (T item in _list)\n",
    "        {\n",
    "            if (item.IsMatch(search))\n",
    "            {\n",
    "                return item;\n",
    "            }\n",
    "        }\n",
    "        return null;\n",
    "    }\n",
    "    \n",
    "        public void Save(){\n",
    "        Save(\"data\");\n",
    "    }\n",
    "\n",
    "    public void Save(string file_name)\n",
    "    {\n",
    "        ib.CreateFile(file_name);\n",
    "        StreamWriter sw = new StreamWriter(ib.f_path, false);\n",
    "        \n",
    "        foreach (var item in _list)\n",
    "        {\n",
    "            sw.WriteLine(ib.ParseData(item));\n",
    "        }\n",
    "\n",
    "        sw.Close();\n",
    "    }\n",
    "\n",
    "    public void Read()\n",
    "    {\n",
    "        StreamReader sr = File.OpenText(ib.f_path);\n",
    "        while (sr.Peek() >= 0)\n",
    "        {\n",
    "            Console.WriteLine(sr.ReadLine());\n",
    "        }\n",
    "        sr.Close();\n",
    "    }\n",
    "}\n",
    "\n",
    "\n",
    "try {\n",
    "    EmployeesCard<Employee> department = new EmployeesCard<Employee>(new JsonBuilder());\n",
    "    department.Add(new Employee(\"23456\", \"Wiktor\", \"Materla\", \"12-05-2007\", 3800, \"AD_CDEF\"));\n",
    "    department.Add(new Employee(\"34567\", \"Karol\", \"Nowak\", \"13-05-2007\", 4200, \"AC_CDEF\"));\n",
    "    department.Add(new Employee(\"45678\", \"Matylda\", \"Kowalczyk\", \"12-05-2007\", 5500, \"AB_CDEF\"));\n",
    "    department.Show();\n",
    "    department.Save();\n",
    "    department.Read();\n",
    "}\n",
    "catch (Exception e) {\n",
    "    Console.WriteLine(e);\n",
    "}"
   ]
  },
  {
   "cell_type": "markdown",
   "metadata": {},
   "source": [
    "### Zadanie 4\n",
    " \n",
    "Rozszerz poprzednie zadanie o możliwość szyfrowania danych metodą cezara. Blok przesunięć powinien być większy, niż jeden. W celu jego przechowywania wykorzystaj klasę `ConfigurationManager` (najpierw należy dodać referencję do biblioteki `System.Configuration`)."
   ]
  },
  {
   "cell_type": "code",
   "execution_count": 61,
   "metadata": {},
   "outputs": [
    {
     "name": "stdout",
     "output_type": "stream",
     "text": [
      "23456, Wiktor, Materla, 12-05-2007, 3800, AD_CDEF\n",
      "34567, Karol, Nowak, 13-05-2007, 4200, AC_CDEF\n",
      "45678, Matylda, Kowalczyk, 12-05-2007, 5500, AB_CDEF\n",
      "{\"employeeId\":\"23456\",\"firstName\":\"Wiktor\",\"lastName\":\"Materla\",\"hireDate\":\"12-05-2007\",\"salary\":3800,\"workplace\":\"AD_CDEF\"}\n",
      "{\"employeeId\":\"34567\",\"firstName\":\"Karol\",\"lastName\":\"Nowak\",\"hireDate\":\"13-05-2007\",\"salary\":4200,\"workplace\":\"AC_CDEF\"}\n",
      "{\"employeeId\":\"45678\",\"firstName\":\"Matylda\",\"lastName\":\"Kowalczyk\",\"hireDate\":\"12-05-2007\",\"salary\":5500,\"workplace\":\"AB_CDEF\"}\n",
      "23456, Wiktor, Materla, 12-05-2007, 3800, AD_CDEF\n",
      "34567, Karol, Nowak, 13-05-2007, 4200, AC_CDEF\n",
      "45678, Matylda, Kowalczyk, 12-05-2007, 5500, AB_CDEF\n",
      "{\"employeeId\":\"23456\",\"firstName\":\"Wiktor\",\"lastName\":\"Materla\",\"hireDate\":\"12-05-2007\",\"salary\":3800,\"workplace\":\"AD_CDEF\"}\n",
      "{\"employeeId\":\"34567\",\"firstName\":\"Karol\",\"lastName\":\"Nowak\",\"hireDate\":\"13-05-2007\",\"salary\":4200,\"workplace\":\"AC_CDEF\"}\n",
      "{\"employeeId\":\"45678\",\"firstName\":\"Matylda\",\"lastName\":\"Kowalczyk\",\"hireDate\":\"12-05-2007\",\"salary\":5500,\"workplace\":\"AB_CDEF\"}\n"
     ]
    }
   ],
   "source": [
    "using System.Configuration;\n",
    "\n",
    "using System;\n",
    "using System.Text.RegularExpressions;\n",
    "using System.Text.Json;\n",
    "using System.IO;\n",
    "\n",
    "public interface IBuilder\n",
    "{\n",
    "    string file_type { get; set; }\n",
    "    string f_path { get; set; }\n",
    "\n",
    "    void CreateFile(string path);\n",
    "    string ParseData(Employee emp);\n",
    "}\n",
    "\n",
    "public class JsonBuilder : IBuilder\n",
    "{\n",
    "    public string file_type { get; set; } = \".json\";\n",
    "    public string f_path { get; set; } = \"\";\n",
    "\n",
    "    public void CreateFile(string path)\n",
    "    {\n",
    "        f_path = path + file_type;\n",
    "        StreamWriter sw = File.CreateText(f_path);\n",
    "        sw.Close();\n",
    "    }\n",
    "\n",
    "    public string ParseData(Employee emp)\n",
    "    {\n",
    "        return JsonSerializer.Serialize(emp);\n",
    "    }\n",
    "}\n",
    "\n",
    "public class Employee\n",
    "{\n",
    "    public string employeeId {get; set; }\n",
    "    public string firstName { get; set; }\n",
    "    public string lastName { get; set; }\n",
    "    public string hireDate { get; set; }\n",
    "    public double salary { get; set; }\n",
    "    public string workplace { get; set; }\n",
    "    \n",
    "    public Employee(string employeeId, string firstName, string lastName, string hireDate, double salary, string workplace) {\n",
    "        this.employeeId = employeeId;\n",
    "        this.firstName = firstName;\n",
    "        this.lastName = lastName;\n",
    "        this.hireDate = hireDate;\n",
    "        this.salary = salary;\n",
    "        this.workplace = workplace;\n",
    "    }\n",
    "\n",
    "    public void Validate() {\n",
    "        if (String.IsNullOrEmpty(employeeId) || String.IsNullOrEmpty(firstName) || String.IsNullOrEmpty(lastName) || String.IsNullOrEmpty(hireDate) || String.IsNullOrEmpty(workplace)) \n",
    "        {\n",
    "           throw new Exception(\"Incorrect\");\n",
    "        }\n",
    "        else if (salary <= 0) \n",
    "        {\n",
    "            throw new Exception(\"Incorrect\");\n",
    "        }\n",
    "    }\n",
    "\n",
    "    public string Show() {\n",
    "        return String.Format((\"{0}, {1}, {2}, {3}, {4}, {5}\"), employeeId, firstName, lastName, hireDate, salary, workplace);\n",
    "    }\n",
    "\n",
    "    public bool IsMatch(string search)\n",
    "    {\n",
    "        return search.Equals(employeeId) || search.Equals(firstName) || search.Equals(lastName) || search.Equals(hireDate) || search.Equals(workplace)  ? true : false;\n",
    "    }\n",
    "\n",
    "    public bool IsMatch(Employee emp)\n",
    "    {\n",
    "        return employeeId.Equals(emp.employeeId)  ? true : false;\n",
    "    }\n",
    "}\n",
    "\n",
    "public class CaesarShift {\n",
    "    string strCount = ConfigurationManager.AppSettings[\"Count\"];\n",
    "    public CaesarShift() {}\n",
    "    private static char Shift(char ch, int key)\n",
    "    {\n",
    "        if (!char.IsLetter(ch))\n",
    "            return ch;\n",
    "\n",
    "        var offset = char.IsUpper(ch) ? 'A' : 'a';\n",
    "        return (char)((((ch + key) - offset) % 26) + offset);\n",
    "    }\n",
    "\n",
    "    public string Encode(string input, int key)\n",
    "    {\n",
    "        var output = string.Empty;\n",
    "\n",
    "        foreach (char ch in input)\n",
    "            output += Shift(ch, key);\n",
    "\n",
    "        return output;\n",
    "    }\n",
    "\n",
    "    public string Decode(string input, int key)\n",
    "    {\n",
    "        return Encode(input, 26 - key);\n",
    "    }\n",
    "}\n",
    "\n",
    "public class EmployeesCard<T> where T : Employee {\n",
    "    private IBuilder ib;\n",
    "    private List<T> _list = new List<T>();\n",
    "    CaesarShift cipher = new CaesarShift();\n",
    "\n",
    "    public EmployeesCard() {}\n",
    "    public EmployeesCard(IBuilder ib) {\n",
    "        this.ib = ib;\n",
    "    }\n",
    "\n",
    "    public void Add(T t) {\n",
    "        _list.Add(t);\n",
    "    }\n",
    "\n",
    "    public void Remove(T t) {\n",
    "        _list.Remove(t);\n",
    "    }\n",
    "\n",
    "    public void Show()\n",
    "    {\n",
    "        _list.ForEach(item => Console.WriteLine(\"{0}\", item.Show()));\n",
    "    }\n",
    "\n",
    "    public void Show(T t)\n",
    "    {\n",
    "        Console.WriteLine(t.Show());\n",
    "    }\n",
    "\n",
    "    public void Show(List<T> t)\n",
    "    {\n",
    "        t.ForEach(item => Console.WriteLine(\"{0}\", item.Show()));\n",
    "    }\n",
    "\n",
    "    public bool ValidateExist(T t)\n",
    "    {\n",
    "        foreach (var item in _list)\n",
    "        {\n",
    "            if (item.IsMatch(t))\n",
    "            {\n",
    "                return true;\n",
    "            }\n",
    "        }\n",
    "        return false;\n",
    "    }\n",
    "\n",
    "    public T Search(string search)\n",
    "    {\n",
    "        foreach (T item in _list)\n",
    "        {\n",
    "            if (item.IsMatch(search))\n",
    "            {\n",
    "                return item;\n",
    "            }\n",
    "        }\n",
    "        return null;\n",
    "    }\n",
    "    \n",
    "        public void Save(){\n",
    "        Save(\"data\");\n",
    "    }\n",
    "\n",
    "    public void Save(string file_name)\n",
    "    {\n",
    "        ib.CreateFile(file_name);\n",
    "        StreamWriter sw = new StreamWriter(ib.f_path, false);\n",
    "        \n",
    "        foreach (var item in _list)\n",
    "        {\n",
    "            sw.WriteLine((cipher.Encode(ib.ParseData(item), 2)));\n",
    "        }\n",
    "\n",
    "        sw.Close();\n",
    "    }\n",
    "\n",
    "    public void Read()\n",
    "    {\n",
    "        StreamReader sr = File.OpenText(ib.f_path);\n",
    "        while (sr.Peek() >= 0)\n",
    "        {\n",
    "            Console.WriteLine(cipher.Decode(sr.ReadLine(), 2));\n",
    "        }\n",
    "        sr.Close();\n",
    "    }\n",
    "}\n",
    "\n",
    "\n",
    "try {\n",
    "    EmployeesCard<Employee> department = new EmployeesCard<Employee>(new JsonBuilder());\n",
    "    department.Add(new Employee(\"23456\", \"Wiktor\", \"Materla\", \"12-05-2007\", 3800, \"AD_CDEF\"));\n",
    "    department.Add(new Employee(\"34567\", \"Karol\", \"Nowak\", \"13-05-2007\", 4200, \"AC_CDEF\"));\n",
    "    department.Add(new Employee(\"45678\", \"Matylda\", \"Kowalczyk\", \"12-05-2007\", 5500, \"AB_CDEF\"));\n",
    "    department.Show();\n",
    "    department.Save();\n",
    "    department.Read();\n",
    "}\n",
    "catch (Exception e) {\n",
    "    Console.WriteLine(e);\n",
    "}\n",
    "\n",
    "try {\n",
    "    EmployeesCard<Employee> department = new EmployeesCard<Employee>(new JsonBuilder());\n",
    "\n",
    "    \n",
    "    department.Add(new Employee(\"23456\", \"Wiktor\", \"Materla\", \"12-05-2007\", 3800, \"AD_CDEF\"));\n",
    "    department.Add(new Employee(\"34567\", \"Karol\", \"Nowak\", \"13-05-2007\", 4200, \"AC_CDEF\"));\n",
    "    department.Add(new Employee(\"45678\", \"Matylda\", \"Kowalczyk\", \"12-05-2007\", 5500, \"AB_CDEF\"));\n",
    "    department.Show();\n",
    "    department.Save();\n",
    "    department.Read();\n",
    "}\n",
    "catch (Exception e) {\n",
    "    Console.WriteLine(e);\n",
    "}"
   ]
  },
  {
   "cell_type": "code",
   "execution_count": null,
   "metadata": {},
   "outputs": [],
   "source": []
  }
 ],
 "metadata": {
  "kernelspec": {
   "display_name": ".NET (C#)",
   "language": "C#",
   "name": ".net-csharp"
  },
  "language_info": {
   "file_extension": ".cs",
   "mimetype": "text/x-csharp",
   "name": "C#",
   "pygments_lexer": "csharp",
   "version": "9.0"
  }
 },
 "nbformat": 4,
 "nbformat_minor": 4
}
