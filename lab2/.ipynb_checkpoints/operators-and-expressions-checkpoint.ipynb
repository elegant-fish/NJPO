{
 "cells": [
  {
   "cell_type": "markdown",
   "metadata": {},
   "source": [
    "# Operatory i wyrażenia w *C#*\n",
    "\n",
    "Głównym przedmiotem laboratorium jest opis operatorów w języku C#, sposoby ich użycia oraz budowanie zaawansowanych wyrażeń za pomocą LINQ (ang. Language INtegrated Query). Oba omawiane tematy są bardzo rozległe, ze względu na ograniczone miejsce zostaną przedstawione najważniejsze mechanizmy stojące za ich obsługą.\n",
    "\n",
    "## Operatory\n",
    "\n",
    "Operatorem nazywamy łańcuch znaków identyfikujący konkretną operację. Identyfikatory (zmienne, funkcje itd.) nazywamy operandami lub argumentami. Operator może używać jednego, dwóch lub trzech operandów.\n",
    "\n",
    "> c = a + b\n",
    "\n",
    "W powyższym przykładzie mamy dwa operatory i łącznie trzy operandy. Operator przypisania `=` i dodawania `+`. Każdy operator ma swój priorytet. Suma ma większy priorytet, niż przypisanie, dzięki czemu sekwencja operacji będzie następująca: wynik z dodawania dwóch zmiennych `a` i `b` zostanie przypisany do zmiennej `c`. W języku C# nawiasy podobnie jak w matematyce zmieniają priorytet operatorów. Rozważmy następny przykład:\n",
    "\n",
    "> d = a + b + c\n",
    "\n",
    "W powyższym przykładzie operator sumy i przypisania mają taki sam priorytet oraz oba potrzebują dwóch operandów. Sekwencja operacji w tym przypadku będzie następująca: wynik działania operacji dodawania zmiennej `a` i `b` zostanie zapisany w zmiennej tymczasowej w pamięci komputera. Następnie wykonana zostanie druga operacja sumy między zmienną tymczasową a zmienną `c` (kolejnym operandem). Następnie wynik tego działania zostanie zapisany do zmiennej `d`. Ze względu na liczbę operandów mamy do dyspozycji dwa rodzaje operatorów binarne i unarne (dwu i jedno argumentowe). Wyjątek od tej reguły stanowi operator trzy argumentowy (o konstrukcji-warunek logiczny ? jeżeli prawda to : jeżeli fałsz to). Operatory można podzielić również na:\n",
    "* logiczne,\n",
    "* bitowe,\n",
    "* arytmetyczne,\n",
    "* warunkowe,\n",
    "* inne (np. dostęp do funkcji)\n",
    "\n",
    "W języku C# podobnie jak w innych językach pochodzących od C istnieje pojęcie pre i post inkrementacji. Chodzi dokładnie o konstrukcję postaci:"
   ]
  },
  {
   "cell_type": "code",
   "execution_count": 1,
   "metadata": {
    "dotnet_interactive": {
     "language": "csharp"
    }
   },
   "outputs": [
    {
     "data": {
      "text/plain": [
       "a pre: 2\r\n"
      ]
     },
     "execution_count": 1,
     "metadata": {},
     "output_type": "execute_result"
    },
    {
     "data": {
      "text/plain": [
       "a: 2\r\n"
      ]
     },
     "execution_count": 1,
     "metadata": {},
     "output_type": "execute_result"
    },
    {
     "data": {
      "text/plain": [
       "b post: 1\r\n"
      ]
     },
     "execution_count": 1,
     "metadata": {},
     "output_type": "execute_result"
    },
    {
     "data": {
      "text/plain": [
       "b: 2\r\n"
      ]
     },
     "execution_count": 1,
     "metadata": {},
     "output_type": "execute_result"
    }
   ],
   "source": [
    "int a = 1;\n",
    "\n",
    "Console.WriteLine($\"a pre: {++a}\");\n",
    "Console.WriteLine($\"a: {a}\");\n",
    "\n",
    "int b = 1;\n",
    "\n",
    "Console.WriteLine($\"b post: {b++}\");\n",
    "Console.WriteLine($\"b: {b}\");"
   ]
  },
  {
   "cell_type": "markdown",
   "metadata": {},
   "source": [
    "W pierwszym przypadku zmienna `a` najpierw jest inkrementowana o 1, a następnie zwrócona. Przeciwnie w przypadku zmiennej `b`, której wartość najpierw wyświetlona jest na ekranie, a potem zwiększona o 1. Pozostałe operatory (w tym wbudowane):\n",
    "\n",
    "| Kategoria     | Operator |\n",
    "| ------------- |:-------------|\n",
    "| Arytmetyczne | `+` `-` `*` `/` `%` |\n",
    "| Warunkowe | `&&` `\\|\\|` `!` |\n",
    "| Bitowe/logiczne | `&` `\\|` `^` `~` |\n",
    "| Konkatenacja łańcuchów | `+` |\n",
    "| Inkremetacja / dekrementacja | `++` `--` |\n",
    "| Przesunięcie bitowe| `<<` `>>` |\n",
    "| Przypisania | `=` `+=` `-=` `*=` `/=` `%=` `&=` `\\|=` `^=` `\\<\\<=` `\\>\\>=` |\n",
    "| Dostęp do elementów klasy | `.` `?.` |\n",
    "| Indeks dla tablic lub indekser | `[]` |\n",
    "| Rzutowanie typów | `()` |\n",
    "| Op. trójargumentowy | `?` `:` |\n",
    "| Tworzenie instancji | **`new`** |\n",
    "| Informacje o typie | **`typeof`** **`sizeof`** **`nameof`** |\n",
    "| Przepełnienie | **`checked`** **`unchecked`** |\n",
    "| Wskaźniki | `*` `->` `&` `[]` |\n",
    "| Operacje na typach | **`as`** **`is`** **`default`** |\n",
    "\n",
    "\n",
    "\n",
    "Dodatkowo na liście nie zostały uwzględnione wyrażenia `lambda`, które rozpoczynają się ciągiem znaków `=>`. Więcej o wyrażeniach `lambda` będzie powiedziane w drugiej części.\n",
    "\n",
    "Przeznaczeniem niektórych operatorów jest skracanie składni. Przykładowo:"
   ]
  },
  {
   "cell_type": "code",
   "execution_count": 1,
   "metadata": {
    "dotnet_interactive": {
     "language": "csharp"
    }
   },
   "outputs": [],
   "source": [
    "int a = 1;\n",
    "a++; //zapis równoznaczny a = a + 1;\n",
    "a += 1; //zapis równoznaczny z a = a + 1"
   ]
  },
  {
   "cell_type": "markdown",
   "metadata": {},
   "source": [
    "Podobne operacje dotyczą całej kategorii operatorów arytmetycznych, binarnych, przesunięć bitowych, ale również przypisania.\n",
    "\n",
    "## Przeciążenie operatorów\n",
    "\n",
    "Zadaniem przeciążenia operatorów jest zmiana zachowania jednego z istniejących operatorów, realizowane za pomocą utworzenie własnej funkcji obsługi. Na powyższej liście, niektóre operatory stanowią słowa kluczowe, wbudowane w język, których nie da się przedefiniować np. **`typeof`**. W przypadku operatorów skracających zapis (np. a += 1), nie da się ich przedefiniować bezpośrednio, a jedynie przez odpowiadający im operator. Istnieje wiele przesłanek za tym, aby stosować przeciążenie operatorów, m.in.:\n",
    "* czytelność kodu,\n",
    "* lepsze dopasowanie do kontekstu,\n",
    "* krótszy zapis.\n",
    "\n",
    "Poniżej znajduje się prosty przykład, w jaki sposób można przedefiniować operatory:"
   ]
  },
  {
   "cell_type": "code",
   "execution_count": 1,
   "metadata": {
    "dotnet_interactive": {
     "language": "csharp"
    }
   },
   "outputs": [],
   "source": [
    "class Matrix\n",
    "{\n",
    "    public Matrix Add(Matrix mat) => null;\n",
    "    public static Matrix operator+ (Matrix mat1, Matrix mat2) => null;\n",
    "}\n",
    "\n",
    "Matrix mat1 = new Matrix();\n",
    "Matrix mat2 = new Matrix();\n",
    "Matrix sum = mat1.Add(mat2);\n",
    "\n",
    "Matrix sum2 = mat1 + mat2;"
   ]
  },
  {
   "cell_type": "markdown",
   "metadata": {},
   "source": [
    "W powyższym przykładzie została zdefiniowana klasa, która zawiera funkcję symulującą dodawanie dwóch macierzy oraz operator sumy, który wykonuje te same operacje. Należy zwrócić uwagę, że deklaracja operatora jest funkcją statyczną. Oprócz samego argumentu `+` nie różni się niczym od zwykłej statycznej funkcji zdefiniowanej w klasie.\n",
    "\n",
    "W trakcie projektowania klas należy pamiętać o restrykcjach związanych nawet z tymi operatorami, które możemy zdefiniować.\n",
    "\n",
    "| Kategoria     | Operatory | Restrykcje |\n",
    "| :------------ |:-------------|:-------------|\n",
    "| Arytmetyczne | `+` `*` `/` `-` `%` | Brak. |\n",
    "| Unarne | `+` `-` `++` `--` | Brak. |\n",
    "| Bitowe binarne | `&` `\\|` `^` `<<` `>>` | Brak. |\n",
    "| Bitowe unarne | `!` `~` **`true`** **`false`** | Operatory **`false`** muszą być zdefiniowane oba lub żaden. |\n",
    "| Porównania | `==` `!=` `>=` `<=` `>` `<` | Muszą być zdefiniowane odpowiadających parach np. `==` `!=` |\n",
    "| Przypisania (skrótowe) | `+=` `-=` `*=` `/=` `>>=` `<<=` `%=` `&=` `|=` `^=` | Nie mogą zostać zdefiniowane wpost, a jedynie poprzez odpowiadające im pełne operatory binarne np. `+`, `-` itd. |\n",
    "| Indeksu | `[]` | Jedynie poprzez tworzenie indekserów. |\n",
    "| Rzutowanie typów | `()` | Nie da się go zdefiniować w klasie wprost. Należy użyć własnego rzutowania jasnego lub niejawnego (obie metody będą omawiane w dalszej części).\n",
    "\n",
    "Kolejny przykład ilustruje sposób tworzenia definicji operatora dla własnego typu."
   ]
  },
  {
   "cell_type": "code",
   "execution_count": 1,
   "metadata": {
    "dotnet_interactive": {
     "language": "csharp"
    }
   },
   "outputs": [],
   "source": [
    "public class Box \n",
    "{    \n",
    "    public float width { get; set; }\n",
    "    public float height { get; set; }\n",
    "\n",
    "    public Box() {}\n",
    "\n",
    "    public Box(float width, float height)\n",
    "    {        \n",
    "        this.width = width; \n",
    "        this.height = height;\n",
    "    }\n",
    "\n",
    "    public static Box operator+ (Box b, Box c) \n",
    "    { \n",
    "        Box box = new Box();         \n",
    "        box.width = b.width + c.width; \n",
    "        box.height = b.height + c.height; \n",
    "        \n",
    "        return box;\n",
    "    }\n",
    "}\n",
    "\n",
    "Box bigBox = new Box(2,3) + new Box(2,3);"
   ]
  },
  {
   "cell_type": "markdown",
   "metadata": {},
   "source": [
    "W kolejnym przykładzie został zdefiniowany operator porównania dwóch obiektów typu `Box` ze sobą. Zgodnie z restrykcjami z tabeli, należy zdefiniować zarówno operator równości, jak i jego zaprzeczenie."
   ]
  },
  {
   "cell_type": "code",
   "execution_count": 1,
   "metadata": {
    "dotnet_interactive": {
     "language": "csharp"
    }
   },
   "outputs": [
    {
     "data": {
      "text/plain": [
       "Equals: True\r\n"
      ]
     },
     "execution_count": 1,
     "metadata": {},
     "output_type": "execute_result"
    },
    {
     "data": {
      "text/plain": [
       "Not equals: False\r\n"
      ]
     },
     "execution_count": 1,
     "metadata": {},
     "output_type": "execute_result"
    }
   ],
   "source": [
    "public class Box \n",
    "{    \n",
    "    public float width { get; set; }\n",
    "    public float height { get; set; }\n",
    "\n",
    "    public Box(float width, float height) {        \n",
    "        this.width = width; \n",
    "        this.height = height;\n",
    "    }\n",
    "\n",
    "    public static bool operator == (Box lhs, Box rhs)\n",
    "    {\n",
    "            bool status = false;\n",
    "            if (lhs.height == rhs.height && lhs.width == rhs.width)\n",
    "            {\n",
    "                status = true;\n",
    "            }\n",
    "            return status;\n",
    "    }\n",
    "    public static bool operator !=(Box lhs, Box rhs)\n",
    "    {\n",
    "            bool status = false;\n",
    "            if (lhs.height != rhs.height || lhs.width != rhs.width)\n",
    "            {\n",
    "                status = true;\n",
    "            }\n",
    "            return status;\n",
    "    }\n",
    "}\n",
    "\n",
    "Console.WriteLine($\"Equals: {new Box(2,3) == new Box(2,3)}\");\n",
    "Console.WriteLine($\"Not equals: {new Box(2,3) != new Box(2,3)}\");"
   ]
  },
  {
   "cell_type": "markdown",
   "metadata": {},
   "source": [
    "Bardzo przydatny jest również operator typu **`true`**, **`false`**. Można go zastosować w instrukcji warunkowej **`if`**."
   ]
  },
  {
   "cell_type": "code",
   "execution_count": 1,
   "metadata": {
    "dotnet_interactive": {
     "language": "csharp"
    }
   },
   "outputs": [
    {
     "data": {
      "text/plain": [
       "True value\r\n"
      ]
     },
     "execution_count": 1,
     "metadata": {},
     "output_type": "execute_result"
    }
   ],
   "source": [
    "public class DBBool \n",
    "{\n",
    "    private int value { get; set; }\n",
    "\n",
    "    public DBBool(int value) \n",
    "    {\n",
    "        this.value = value;\n",
    "    }\n",
    "    public static bool operator true(DBBool x)\n",
    "    {\n",
    "            return x.value > 0;\n",
    "    }\n",
    "    public static bool operator false(DBBool x)\n",
    "    {\n",
    "            return x.value < 0;\n",
    "    }\n",
    "}\n",
    "\n",
    "var dataFromDB = new DBBool(1);\n",
    "\n",
    "if (dataFromDB) {\n",
    "    Console.WriteLine(\"True value\");\n",
    "} else {\n",
    "    Console.WriteLine(\"False value\");\n",
    "}"
   ]
  },
  {
   "cell_type": "markdown",
   "metadata": {},
   "source": [
    "Chcą użyć operatorów logicznych `&&` i `||` należy dodatkowo zdefiniować operatory binarne `&` i `|` jak w poniższym przykładzie."
   ]
  },
  {
   "cell_type": "code",
   "execution_count": 1,
   "metadata": {
    "dotnet_interactive": {
     "language": "csharp"
    }
   },
   "outputs": [
    {
     "data": {
      "text/plain": [
       "Is equal\r\n"
      ]
     },
     "execution_count": 1,
     "metadata": {},
     "output_type": "execute_result"
    },
    {
     "data": {
      "text/plain": [
       "Both ok\r\n"
      ]
     },
     "execution_count": 1,
     "metadata": {},
     "output_type": "execute_result"
    },
    {
     "data": {
      "text/plain": [
       "Binary 0 and 1 = 0\r\n"
      ]
     },
     "execution_count": 1,
     "metadata": {},
     "output_type": "execute_result"
    },
    {
     "data": {
      "text/plain": [
       "Binary 0 or 1 = 1\r\n"
      ]
     },
     "execution_count": 1,
     "metadata": {},
     "output_type": "execute_result"
    }
   ],
   "source": [
    "public class DBBool \n",
    "{\n",
    "    private int value { get; set; }\n",
    "\n",
    "    public DBBool(int value) \n",
    "    {\n",
    "        this.value = value;\n",
    "    }\n",
    "    public static DBBool operator & (DBBool x, DBBool y)\n",
    "    {\n",
    "        return new DBBool(x.value < y.value ? x.value : y.value);\n",
    "    }\n",
    "\n",
    "    public static DBBool operator | (DBBool x, DBBool y)\n",
    "    {\n",
    "        return new DBBool(x.value > y.value ? x.value : y.value);\n",
    "    }\n",
    "\n",
    "    public static bool operator == (DBBool x, DBBool y)\n",
    "    {\n",
    "        return x.value == y.value;\n",
    "    }\n",
    "\n",
    "    \n",
    "    public static bool operator != (DBBool x, DBBool y)\n",
    "    {\n",
    "        return x.value != y.value;\n",
    "    }\n",
    "\n",
    "    public static bool operator true(DBBool x)\n",
    "    {\n",
    "            return x.value > 0;\n",
    "    }\n",
    "    public static bool operator false(DBBool x)\n",
    "    {\n",
    "            return x.value < 0;\n",
    "    }\n",
    "\n",
    "}\n",
    "\n",
    "var dataFromDB = new DBBool(1);\n",
    "var dataFromDB2 = new DBBool(1);\n",
    "\n",
    "if (dataFromDB == dataFromDB2) {\n",
    "    Console.WriteLine(\"Is equal\");\n",
    "} else {\n",
    "    Console.WriteLine(\"Is not equal\");\n",
    "}\n",
    "\n",
    "if (dataFromDB && dataFromDB2) {\n",
    "    Console.WriteLine(\"Both ok\");\n",
    "} else {\n",
    "    Console.WriteLine(\"Both not ok\");\n",
    "}\n",
    "\n",
    "dataFromDB = new DBBool(0);\n",
    "dataFromDB2 = new DBBool(1);\n",
    "\n",
    "if (dataFromDB & dataFromDB2) {\n",
    "    Console.WriteLine(\"Binary 0 and 1 = 1\");\n",
    "} else {\n",
    "    Console.WriteLine(\"Binary 0 and 1 = 0\");\n",
    "}\n",
    "\n",
    "if (dataFromDB | dataFromDB2) {\n",
    "    Console.WriteLine(\"Binary 0 or 1 = 1\");\n",
    "} else {\n",
    "    Console.WriteLine(\"Binary 0 or 1 = 0\");\n",
    "}"
   ]
  },
  {
   "cell_type": "markdown",
   "metadata": {},
   "source": [
    "## Rzutowanie jawne i domniemane\n",
    "\n",
    "Z rzutowaniem jawnym (*explicit*) mamy do czynienia w przypadku użycia nawiasów podając wprost typ, na jaki ma być rzutowany obiekt."
   ]
  },
  {
   "cell_type": "code",
   "execution_count": 1,
   "metadata": {
    "dotnet_interactive": {
     "language": "csharp"
    }
   },
   "outputs": [
    {
     "data": {
      "text/plain": [
       "2\r\n"
      ]
     },
     "execution_count": 1,
     "metadata": {},
     "output_type": "execute_result"
    }
   ],
   "source": [
    "float a = 2.2f;\n",
    "int b = (int)a;\n",
    "\n",
    "Console.WriteLine(b);"
   ]
  },
  {
   "cell_type": "markdown",
   "metadata": {},
   "source": [
    "Z rzutowaniem niejawnym (*implicit*) mamy do czynienia w momencie automatycznej konwersji typów, która dzieje się w tle."
   ]
  },
  {
   "cell_type": "code",
   "execution_count": 1,
   "metadata": {
    "dotnet_interactive": {
     "language": "csharp"
    }
   },
   "outputs": [
    {
     "data": {
      "text/plain": [
       "2147483647\r\n"
      ]
     },
     "execution_count": 1,
     "metadata": {},
     "output_type": "execute_result"
    }
   ],
   "source": [
    "int num = int.MaxValue;\n",
    "long biggerType = num;\n",
    "\n",
    "Console.WriteLine(biggerType);"
   ]
  },
  {
   "cell_type": "markdown",
   "metadata": {},
   "source": [
    "Jak łatwo zauważyć, domyślnie zdefiniowane konwersje niejawne są dopuszczalne tylko wtedy, gdy obiekt nie traci informacji. Dla przykładu zmienna typu `int` (32 bity pamięci) zawsze jest mniejsza, niż `long` (64 bitów pamięci). Dlatego taki operator został zdefiniowany w samej bibliotece standardowej .NET. Odwrotny przypadek powodowałby błąd kompilacji. Taką samą zasadą należy kierować się, pisząc własne rzutowania. Projektując swoją klasę, dobrą praktyką jest zdefiniowanie paru rzutowań na typy standardowe. Praktycznym przykładem może być rzutowanie własnej klasy na słownik."
   ]
  },
  {
   "cell_type": "code",
   "execution_count": 1,
   "metadata": {
    "dotnet_interactive": {
     "language": "csharp"
    }
   },
   "outputs": [
    {
     "data": {
      "text/plain": [
       "Box size: 2 x 3\r\n"
      ]
     },
     "execution_count": 1,
     "metadata": {},
     "output_type": "execute_result"
    },
    {
     "data": {
      "text/plain": [
       "Box serialized size: 2 x 3\r\n"
      ]
     },
     "execution_count": 1,
     "metadata": {},
     "output_type": "execute_result"
    }
   ],
   "source": [
    "using System.Collections.Generic;\n",
    "\n",
    "public class Box \n",
    "{    \n",
    "    public float width { get; set; }\n",
    "    public float height { get; set; }\n",
    "\n",
    "    public Box(float width, float height) {        \n",
    "        this.width = width; \n",
    "        this.height = height;\n",
    "    }\n",
    "\n",
    "    public static implicit operator Dictionary<string, float>(Box d) {\n",
    "        return new Dictionary<string, float> {            \n",
    "            { \"width\", d.width },\n",
    "            { \"height\", d.height }            \n",
    "        };\n",
    "    }\n",
    "\n",
    "    public static explicit operator Box(Dictionary<string, float> dict) {\n",
    "        return new Box(dict[\"width\"], dict[\"height\"]);\n",
    "    }\n",
    "}\n",
    "\n",
    "var dict = new Dictionary<string, float>() { {\"width\", 2.0f }, {\"height\", 3.0f } };\n",
    "\n",
    "Box box = (Box)dict;\n",
    "Console.WriteLine($\"Box size: {box.width} x {box.height}\");\n",
    "\n",
    "Dictionary<string, float> serialized = box;\n",
    "Console.WriteLine($\"Box serialized size: {serialized[\"width\"]} x {serialized[\"height\"]}\");"
   ]
  },
  {
   "cell_type": "markdown",
   "metadata": {},
   "source": [
    "Dodatkowo należy pamiętać o dobrych praktykach związanych z definiowaniem konwersji jawnej i domniemanej. Pierwsza nie powinna rzucać wyjątków, z kolei w drugim przypadku nie ma to większego znaczenia. Operatory można również zdefiniować na poziomie struktur."
   ]
  },
  {
   "cell_type": "code",
   "execution_count": 1,
   "metadata": {
    "dotnet_interactive": {
     "language": "csharp"
    }
   },
   "outputs": [],
   "source": [
    "public struct DBInt\n",
    "{\n",
    "    public static readonly DBInt Null = new DBInt();\n",
    "    private int value;\n",
    "    private bool defined;    \n",
    "\n",
    "    public bool IsNull { get { return !defined; } }\n",
    "\n",
    "    public DBInt(int value = default(int), bool defined = default(bool)) \n",
    "    { this.value = value; this.defined = defined; }    \n",
    "\n",
    "    public static DBInt operator +(DBInt x, DBInt y) { \n",
    "        return !x.IsNull && !y.IsNull ? new DBInt(x.value + y.value, true) : new DBInt() ; \n",
    "    }\n",
    "\n",
    "    public static implicit operator DBInt(int x) => new DBInt(x, true);\n",
    "    public static explicit operator int?(DBInt x) => x.IsNull ? null : x.value;\n",
    "}"
   ]
  },
  {
   "cell_type": "markdown",
   "metadata": {},
   "source": [
    "## Przedefiniowanie funkcji standardowych\n",
    "\n",
    "Istnieje szereg funkcji, które dziedziczą każdy obiekt. Są to m.in. funkcje `Equals`, `GetHashCode` czy `ToString`. Pierwsza potrzebna jest kompilatorowi to porównywania dwóch dowolnych instancji klas, druga umożliwia przekazywania instancji klasy jako klucza w słowniku. Przykładowa implementacja tych funkcji prezentuje poniższy kod."
   ]
  },
  {
   "cell_type": "code",
   "execution_count": 1,
   "metadata": {
    "dotnet_interactive": {
     "language": "csharp"
    }
   },
   "outputs": [
    {
     "data": {
      "text/plain": [
       "Box to string: Box size: 1 x 2\r\n"
      ]
     },
     "execution_count": 1,
     "metadata": {},
     "output_type": "execute_result"
    },
    {
     "data": {
      "text/plain": [
       "Using custom Equals\r\n"
      ]
     },
     "execution_count": 1,
     "metadata": {},
     "output_type": "execute_result"
    },
    {
     "data": {
      "text/plain": [
       "Box 1x1 is: Small size\r\n"
      ]
     },
     "execution_count": 1,
     "metadata": {},
     "output_type": "execute_result"
    },
    {
     "data": {
      "text/plain": [
       "Using custom Equals\r\n"
      ]
     },
     "execution_count": 1,
     "metadata": {},
     "output_type": "execute_result"
    },
    {
     "data": {
      "text/plain": [
       "Box 1x1 is in the dict\r\n"
      ]
     },
     "execution_count": 1,
     "metadata": {},
     "output_type": "execute_result"
    },
    {
     "data": {
      "text/plain": [
       "Box 3x3 is not in the dict\r\n"
      ]
     },
     "execution_count": 1,
     "metadata": {},
     "output_type": "execute_result"
    }
   ],
   "source": [
    "using System.Collections.Generic;\n",
    "\n",
    "public class Box \n",
    "{    \n",
    "    public float width { get; set; }\n",
    "    public float height { get; set; }\n",
    "\n",
    "    public Box(float width, float height) {        \n",
    "        this.width = width; \n",
    "        this.height = height;\n",
    "    }\n",
    "\n",
    "    public override bool Equals(Object other) {\n",
    "        Console.WriteLine(\"Using custom Equals\");\n",
    "        switch (other)\n",
    "        {\n",
    "            case Box box when other is Box:\n",
    "                return this.height == box.height && this.width == box.width;\n",
    "            default:\n",
    "                return false;\n",
    "        }\n",
    "    }\n",
    "\n",
    "    public override int GetHashCode() => (this.width + this.height).GetHashCode();\n",
    "    \n",
    "    public override string ToString() => $\"Box size: {this.width} x {this.height}\";\n",
    "\n",
    "}\n",
    "\n",
    "Console.WriteLine($\"Box to string: {new Box(1,2)}\");\n",
    "\n",
    "var dict = new Dictionary<Box, string>() { { new Box(2,2), \"Full size\" }, { new Box(1,1), \"Small size\"} };\n",
    "\n",
    "Console.WriteLine($\"Box 1x1 is: {dict[new Box(1,1)]}\");\n",
    "\n",
    "if (dict.ContainsKey(new Box(1,1))) {\n",
    "    Console.WriteLine($\"Box 1x1 is in the dict\");\n",
    "}\n",
    "\n",
    "if (dict.ContainsKey(new Box(3,3))) {\n",
    "    Console.WriteLine($\"Box 3x3 is in the dict\");\n",
    "} else {\n",
    "    Console.WriteLine($\"Box 3x3 is not in the dict\");\n",
    "}"
   ]
  },
  {
   "cell_type": "markdown",
   "metadata": {},
   "source": [
    "## Implementacja interfejsów wbudowanych\n",
    "\n",
    "Istnieje wiele funkcji wbudowanych, które, aby mogły działać poprawnie, należy zaimplementować konkretny interfejs z biblioteki standardowej. Przykładowo, aby kolekcja miała możliwość sortowania należy zaimplementować interfejs `IComparable` lub `IComparable<T>`. W celu umożliwienia iterowania po elementach klasy (jako generator wartości w pętli **`foreach`**) należy użyć interfejsu `IEnumerator` lub `IEnumerable<T>`. Implementacja obu z nich zostanie przedstawiona na praktycznych przykładach.\n",
    "\n",
    "### Interfejs IComparable / I​Comparable<​T>\n",
    "\n",
    "Interfejs ten wymaga zdefiniowania funkcji `CompareTo` przyjmującej jeden argument typu `Object` lub `T` w zależności od wersji ogólnej lub generycznej. Funkcji powinna zwrócić -1, gdy argument zawiera mniejszą wartość, 0 dla wartości równej oraz 1 dla wartości większej. Warto również dodać, że każdy typ prosty zawiera zaimplementowany interfejs `IComparable`."
   ]
  },
  {
   "cell_type": "code",
   "execution_count": 1,
   "metadata": {
    "dotnet_interactive": {
     "language": "csharp"
    }
   },
   "outputs": [
    {
     "data": {
      "text/plain": [
       "Box size: 1 x 1\n",
       "Box size: 1 x 2\n",
       "Box size: 2 x 2\n",
       "Box size: 2 x 3\r\n"
      ]
     },
     "execution_count": 1,
     "metadata": {},
     "output_type": "execute_result"
    }
   ],
   "source": [
    "using System.Collections;\n",
    "\n",
    "public class Box: IComparable\n",
    "{    \n",
    "    public float width { get; set; }\n",
    "    public float height { get; set; }\n",
    "\n",
    "    public Box(float width, float height) {        \n",
    "        this.width = width; \n",
    "        this.height = height;\n",
    "    }\n",
    "\n",
    "    public int CompareTo(object obj) {\n",
    "        if (obj == null) return 1;\n",
    "\n",
    "        switch (obj)\n",
    "        {\n",
    "            case Box box when obj is Box:\n",
    "                return (this.height * this.width).CompareTo(box.height * box.width);            \n",
    "            default:\n",
    "                throw new ArgumentException(\"Object is not a Box\");\n",
    "        }\n",
    "    }\n",
    "\n",
    "    public override string ToString() => $\"Box size: {this.width} x {this.height}\";\n",
    "}\n",
    "\n",
    "var boxes = new List<Box>() { new Box(2,3), new Box(1,1), new Box(2,2), new Box(1,2) };\n",
    "\n",
    "boxes.Sort();\n",
    "\n",
    "Console.WriteLine(string.Join(\"\\n\", boxes));"
   ]
  },
  {
   "cell_type": "markdown",
   "metadata": {},
   "source": [
    "### Interfejs IEnumerator / IEnumerable<T>\n",
    "\n",
    "IEnumerable zwraca interface `IEnumerator` dla konkretnego typu. Ten ostatni zawiera funkcje: `MoveNext`, `Reset` oraz właściwość `Current`."
   ]
  },
  {
   "cell_type": "code",
   "execution_count": 1,
   "metadata": {
    "dotnet_interactive": {
     "language": "csharp"
    }
   },
   "outputs": [
    {
     "data": {
      "text/plain": [
       "MoveNext call\r\n"
      ]
     },
     "execution_count": 1,
     "metadata": {},
     "output_type": "execute_result"
    },
    {
     "data": {
      "text/plain": [
       "Box size: 1 x 1\r\n"
      ]
     },
     "execution_count": 1,
     "metadata": {},
     "output_type": "execute_result"
    },
    {
     "data": {
      "text/plain": [
       "MoveNext call\r\n"
      ]
     },
     "execution_count": 1,
     "metadata": {},
     "output_type": "execute_result"
    },
    {
     "data": {
      "text/plain": [
       "Box size: 2 x 2\r\n"
      ]
     },
     "execution_count": 1,
     "metadata": {},
     "output_type": "execute_result"
    },
    {
     "data": {
      "text/plain": [
       "MoveNext call\r\n"
      ]
     },
     "execution_count": 1,
     "metadata": {},
     "output_type": "execute_result"
    },
    {
     "data": {
      "text/plain": [
       "Box size: 3 x 3\r\n"
      ]
     },
     "execution_count": 1,
     "metadata": {},
     "output_type": "execute_result"
    },
    {
     "data": {
      "text/plain": [
       "MoveNext call\r\n"
      ]
     },
     "execution_count": 1,
     "metadata": {},
     "output_type": "execute_result"
    }
   ],
   "source": [
    "using System.Collections;\n",
    "\n",
    "public class Box\n",
    "{    \n",
    "    public float width { get; set; }\n",
    "    public float height { get; set; }\n",
    "\n",
    "    public Box(float width, float height) {        \n",
    "        this.width = width; \n",
    "        this.height = height;\n",
    "    }\n",
    "\n",
    "    public override string ToString() => $\"Box size: {this.width} x {this.height}\";\n",
    "\n",
    "}\n",
    "\n",
    "public class BoxCollection : IEnumerable<Box>\n",
    "{\n",
    "    List<Box> Internals = new List<Box>();\n",
    "\n",
    "    public void Add(Box box) {  \n",
    "        Internals.Add(box);\n",
    "    }\n",
    "\n",
    "    IEnumerator IEnumerable.GetEnumerator() //used with object in foreach\n",
    "    {        \n",
    "        return new BoxCollectionEnumerator(Internals);\n",
    "    }\n",
    "    \n",
    "    public IEnumerator<Box> GetEnumerator()\n",
    "    {\n",
    "        // or that code simplify enumerator\n",
    "        // foreach (Box foo in this.Internals) //used with strong type in foreach\n",
    "        // {\n",
    "        //     yield return foo;          \n",
    "        // } \n",
    "        \n",
    "        return new BoxCollectionEnumerator(Internals);\n",
    "    }\n",
    "}\n",
    "\n",
    "public class BoxCollectionEnumerator: IEnumerator<Box>\n",
    "{    \n",
    "    private List<Box> Boxes { get; set; }\n",
    "    private int Index = 0;\n",
    "\n",
    "    public BoxCollectionEnumerator(List<Box> boxes) {\n",
    "        this.Boxes = boxes;\n",
    "    }\n",
    "\n",
    "    public Box Current { get; private set; }\n",
    "\n",
    "    object IEnumerator.Current { get => Current; }\n",
    "\n",
    "    public bool MoveNext()\n",
    "    {\n",
    "        Console.WriteLine(\"MoveNext call\");\n",
    "\n",
    "        if(Index > Boxes.Count - 1)\n",
    "            return false;\n",
    "\n",
    "        Current = Boxes[Index];\n",
    "        Index += 1;\n",
    "        return true;\n",
    "    }\n",
    "\n",
    "    public void Reset()\n",
    "    {\n",
    "        Console.WriteLine(\"Reset call\");\n",
    "        Index = 0;\n",
    "        Current = null;\n",
    "    }\n",
    "\n",
    "    public void Dispose() {   \n",
    "    }\n",
    "}\n",
    "\n",
    "var boxes = new BoxCollection();\n",
    "boxes.Add(new Box(1,1));\n",
    "boxes.Add(new Box(2,2));\n",
    "boxes.Add(new Box(3,3));\n",
    "\n",
    "foreach(var box in boxes) {\n",
    "    Console.WriteLine(box);\n",
    "}"
   ]
  },
  {
   "cell_type": "markdown",
   "metadata": {},
   "source": [
    "## Wyrażenia `lambda`\n",
    "\n",
    "Wyrażeniem `lambda` nazywamy wskaźnik na funkcje zdefiniowaną w ciele funkcji. Same wyrażenia `lambda` są elementem języka funkcyjnego wprowadzonego do języka C#. Konstrukcja ta umożliwia sterowanie funkcjami z zewnątrz. Przykładowo dla złożonej klasy można przekazać informację, po jakim polu ma być wykonywana operacja *sort*. Sygnatura wyrażeń `lambda` ma postać:\n",
    "\n",
    "> typ zmienna = (parametry) => ciało wyrażenia;\n",
    "\n",
    "Poniżej znajduje się listing z taką deklaracją właśnie deklaracją."
   ]
  },
  {
   "cell_type": "code",
   "execution_count": 1,
   "metadata": {
    "dotnet_interactive": {
     "language": "csharp"
    }
   },
   "outputs": [
    {
     "data": {
      "text/plain": [
       "Bigger is: Box size: 2 x 2\r\n"
      ]
     },
     "execution_count": 1,
     "metadata": {},
     "output_type": "execute_result"
    }
   ],
   "source": [
    "class Box \n",
    "{\n",
    "    public float width { get; set; }\n",
    "    public float height { get; set; }\n",
    "\n",
    "    public Box(float width, float height) {        \n",
    "        this.width = width; \n",
    "        this.height = height;\n",
    "    }\n",
    "\n",
    "    public static Box Bigger(Box f, Box s) {\n",
    "        Func<Box, Box, Box> maxFunc = (fir,sec) => f.height * f.width > s.height * s.width ? f : s;\n",
    "\n",
    "        return f != null && s != null ? maxFunc(f, s) : null;\n",
    "    }\n",
    "\n",
    "    public override string ToString() => $\"Box size: {this.width} x {this.height}\";\n",
    "}\n",
    "\n",
    "Console.WriteLine($\"Bigger is: {Box.Bigger(new Box(1,1), new Box(2,2))}\");"
   ]
  },
  {
   "cell_type": "markdown",
   "metadata": {},
   "source": [
    "## LINQ\n",
    "\n",
    "Wprowdzenie wyrażeń `lambda` oraz metod rozszerzających do języka C# umożliwiło konstruowanie LINQ, które zostanie pokrótce opisane na przykładach. W przykładach zostaną użyte dwie metody, metod rozszerzających oraz wyrażeń zapytań `lambda`.\n",
    "\n",
    "### Filtrowanie danych"
   ]
  },
  {
   "cell_type": "code",
   "execution_count": 1,
   "metadata": {
    "dotnet_interactive": {
     "language": "csharp"
    }
   },
   "outputs": [
    {
     "data": {
      "text/plain": [
       "Ala,Ala\r\n"
      ]
     },
     "execution_count": 1,
     "metadata": {},
     "output_type": "execute_result"
    },
    {
     "data": {
      "text/plain": [
       "Ala,Ala\r\n"
      ]
     },
     "execution_count": 1,
     "metadata": {},
     "output_type": "execute_result"
    }
   ],
   "source": [
    "using System.Collections.Generic;\n",
    "\n",
    "var names = new [] { \"Ala\", \"Julian\", \"Julia\", \"Ala\" };\n",
    "\n",
    "var list = names.Where(x => x == \"Ala\");\n",
    "\n",
    "Console.WriteLine(string.Join(\",\", list));\n",
    "\n",
    "var filtrList = from c in names //source\n",
    "\t\t  where c == \"Ala\" //condition\n",
    "\t\t  select c; //projection\n",
    "\n",
    "Console.WriteLine(string.Join(\",\", filtrList));"
   ]
  },
  {
   "cell_type": "markdown",
   "metadata": {},
   "source": [
    "Dodatkowo kolekcja `names` nie musi być tablicą wartości prostych. Za pomocą zmiennej `c` można dostać się do wszystkich właściwości i funkcji, gdyby zmienna ta była instancją klasy.\n",
    "\n",
    "### Sortowanie"
   ]
  },
  {
   "cell_type": "code",
   "execution_count": 1,
   "metadata": {
    "dotnet_interactive": {
     "language": "csharp"
    }
   },
   "outputs": [
    {
     "data": {
      "text/plain": [
       "0,1,2,3,5,6,10\r\n"
      ]
     },
     "execution_count": 1,
     "metadata": {},
     "output_type": "execute_result"
    },
    {
     "data": {
      "text/plain": [
       "0,1,2,3,5,6,10\r\n"
      ]
     },
     "execution_count": 1,
     "metadata": {},
     "output_type": "execute_result"
    }
   ],
   "source": [
    "var values = new [] { 1,3,2,5,0,10,6 };\n",
    "\n",
    "var sorted = values.OrderBy(x => x);\n",
    "\n",
    "Console.WriteLine(string.Join(\",\", sorted));\n",
    "\n",
    "sorted = from c in values\n",
    "         orderby c ascending\n",
    "         select c;\n",
    "\n",
    "Console.WriteLine(string.Join(\",\", sorted));"
   ]
  },
  {
   "cell_type": "markdown",
   "metadata": {},
   "source": [
    "### Grupowanie"
   ]
  },
  {
   "cell_type": "code",
   "execution_count": 1,
   "metadata": {
    "dotnet_interactive": {
     "language": "csharp"
    }
   },
   "outputs": [
    {
     "data": {
      "text/plain": [
       "Food: 2,3333333\r\n"
      ]
     },
     "execution_count": 1,
     "metadata": {},
     "output_type": "execute_result"
    }
   ],
   "source": [
    "class Product\n",
    "{\n",
    "    public string Category { get; set; }\n",
    "    public string Name { get; set; }\n",
    "    public float UnitPrice { get; set; }\n",
    "}\n",
    "\n",
    "var products = new List<Product>() {\n",
    "    new Product() { Category = \"Food\", Name = \"Carrot\", UnitPrice = 1.0f },\n",
    "    new Product() { Category = \"Food\", Name = \"Apple\", UnitPrice = 3.0f },\n",
    "    new Product() { Category = \"Food\", Name = \"Pineapple\", UnitPrice = 3.0f }    \n",
    "};\n",
    "\n",
    "\n",
    "var categories = \n",
    "\tfrom p in products \n",
    "\tgroup p by p.Category into g \n",
    "\tselect new //new type\n",
    "\t{ \n",
    "\t    Category = g.Key, \n",
    "\t\tAveragePrice = g.Average(p => p.UnitPrice)\n",
    "\t};\n",
    "\n",
    "foreach(var cat in categories) {\n",
    "    Console.WriteLine($\"{cat.Category}: {cat.AveragePrice}\");\n",
    "}\n"
   ]
  },
  {
   "cell_type": "markdown",
   "metadata": {},
   "source": [
    "W powyższym przykładzie została użyta funkcja rozszerzająca `Average`. Innymi dostępnymi funkcjami są m.in. `min`, `max`, `sum`, `count`. Funkcjami rozszerzającymi, które nie będą omawiane są `take`, `skip`, kolejno do ograniczenia liczby elementów w kolekcji oraz pominięciu $n$-tu pierwszych.\n",
    "\n",
    "## Operacje na kolekcjach\n",
    "\n",
    "Funkcja rozszerzająca `Concat` umożliwia łączenie dwóch zbiorów danych."
   ]
  },
  {
   "cell_type": "code",
   "execution_count": 1,
   "metadata": {
    "dotnet_interactive": {
     "language": "csharp"
    }
   },
   "outputs": [
    {
     "data": {
      "text/plain": [
       "All numbers from both arrays:\r\n"
      ]
     },
     "execution_count": 1,
     "metadata": {},
     "output_type": "execute_result"
    },
    {
     "data": {
      "text/plain": [
       "0\r\n"
      ]
     },
     "execution_count": 1,
     "metadata": {},
     "output_type": "execute_result"
    },
    {
     "data": {
      "text/plain": [
       "2\r\n"
      ]
     },
     "execution_count": 1,
     "metadata": {},
     "output_type": "execute_result"
    },
    {
     "data": {
      "text/plain": [
       "4\r\n"
      ]
     },
     "execution_count": 1,
     "metadata": {},
     "output_type": "execute_result"
    },
    {
     "data": {
      "text/plain": [
       "5\r\n"
      ]
     },
     "execution_count": 1,
     "metadata": {},
     "output_type": "execute_result"
    },
    {
     "data": {
      "text/plain": [
       "6\r\n"
      ]
     },
     "execution_count": 1,
     "metadata": {},
     "output_type": "execute_result"
    },
    {
     "data": {
      "text/plain": [
       "8\r\n"
      ]
     },
     "execution_count": 1,
     "metadata": {},
     "output_type": "execute_result"
    },
    {
     "data": {
      "text/plain": [
       "9\r\n"
      ]
     },
     "execution_count": 1,
     "metadata": {},
     "output_type": "execute_result"
    },
    {
     "data": {
      "text/plain": [
       "1\r\n"
      ]
     },
     "execution_count": 1,
     "metadata": {},
     "output_type": "execute_result"
    },
    {
     "data": {
      "text/plain": [
       "3\r\n"
      ]
     },
     "execution_count": 1,
     "metadata": {},
     "output_type": "execute_result"
    },
    {
     "data": {
      "text/plain": [
       "5\r\n"
      ]
     },
     "execution_count": 1,
     "metadata": {},
     "output_type": "execute_result"
    },
    {
     "data": {
      "text/plain": [
       "7\r\n"
      ]
     },
     "execution_count": 1,
     "metadata": {},
     "output_type": "execute_result"
    },
    {
     "data": {
      "text/plain": [
       "8\r\n"
      ]
     },
     "execution_count": 1,
     "metadata": {},
     "output_type": "execute_result"
    }
   ],
   "source": [
    "int[] numbersA = { 0, 2, 4, 5, 6, 8, 9 }; \n",
    "int[] numbersB = { 1, 3, 5, 7, 8 }; \n",
    "  \n",
    "var allNumbers = numbersA.Concat(numbersB); \n",
    "  \n",
    "Console.WriteLine(\"All numbers from both arrays:\");\n",
    " \n",
    "foreach (var n in allNumbers) \n",
    "{ \n",
    "\tConsole.WriteLine(n); \n",
    "} \n"
   ]
  },
  {
   "cell_type": "markdown",
   "metadata": {},
   "source": [
    "Podobnego mechanizm można użyć do złączeń zbiorów po kluczach. "
   ]
  },
  {
   "cell_type": "code",
   "execution_count": 1,
   "metadata": {
    "dotnet_interactive": {
     "language": "csharp"
    }
   },
   "outputs": [
    {
     "data": {
      "text/plain": [
       "Food:\r\n"
      ]
     },
     "execution_count": 1,
     "metadata": {},
     "output_type": "execute_result"
    },
    {
     "data": {
      "text/plain": [
       "\tCarrot\r\n"
      ]
     },
     "execution_count": 1,
     "metadata": {},
     "output_type": "execute_result"
    },
    {
     "data": {
      "text/plain": [
       "\tApple\r\n"
      ]
     },
     "execution_count": 1,
     "metadata": {},
     "output_type": "execute_result"
    },
    {
     "data": {
      "text/plain": [
       "\tPineapple\r\n"
      ]
     },
     "execution_count": 1,
     "metadata": {},
     "output_type": "execute_result"
    },
    {
     "data": {
      "text/plain": [
       "Cosmetics:\r\n"
      ]
     },
     "execution_count": 1,
     "metadata": {},
     "output_type": "execute_result"
    },
    {
     "data": {
      "text/plain": [
       "\tCreame\r\n"
      ]
     },
     "execution_count": 1,
     "metadata": {},
     "output_type": "execute_result"
    }
   ],
   "source": [
    "class Category \n",
    "{\n",
    "    public string Key { get; set; }\n",
    "    public string Name { get; set; }\n",
    "}\n",
    "\n",
    "class Product\n",
    "{\n",
    "    public string Name { get; set; }\n",
    "    public float UnitPrice { get; set; }\n",
    "    public string Category { get; set; }\n",
    "}\n",
    "\n",
    "var categories = new List<Category>() { \n",
    "    new Category() { Key = \"F\", Name = \"Food\" },\n",
    "    new Category() { Key = \"C\", Name = \"Cosmetics\" }\n",
    "};\n",
    "\n",
    "var products = new List<Product>() {\n",
    "    new Product() { Category = \"F\", Name = \"Carrot\", UnitPrice = 1.0f },\n",
    "    new Product() { Category = \"F\", Name = \"Apple\", UnitPrice = 3.0f },\n",
    "    new Product() { Category = \"F\", Name = \"Pineapple\", UnitPrice = 3.0f }, \n",
    "    new Product() { Category = \"C\", Name = \"Creame\", UnitPrice = 3.0f }\n",
    "};\n",
    "\n",
    "var q = \n",
    "\tfrom c in categories \n",
    "\tjoin p in products \n",
    "    on c.Key equals p.Category into ps \n",
    "\tselect new { Category = c.Name, Products = ps }; \n",
    "  \n",
    "foreach (var v in q) \n",
    "{ \n",
    "\tConsole.WriteLine(v.Category + \":\"); \n",
    "\tforeach (var p in v.Products) \n",
    "       { \n",
    "\t\tConsole.WriteLine(\"\\t\" + p.Name); \n",
    "\t} \n",
    "} "
   ]
  },
  {
   "cell_type": "markdown",
   "metadata": {
    "pycharm": {
     "name": "#%% md\n"
    }
   },
   "source": [
    "### Zadanie 1\n",
    "\n",
    "Napisz funkcję (najlepiej przedefiniować `ToString`), która dla zadanego wyrażenia w języku programowania C# zwróci łańcuch znaków w postaci ONP. Przykładowo:\n",
    "\n",
    "dla wyrażenia `x = a - b * c`, gdzie `a`, `b`, `c` to klasy typu `OnpExpression`, a `-`, `*` to operatory, funkcja `x.ToString()` zwróci \"a b - c *\" (brak priorytetów dla operacji i nawiasów).\n",
    "\n",
    "Klasa `OnpExpression` powinna przechowywać swoje wartości tak, aby uprościć metodzie `ToString` zwracanie wyniku."
   ]
  },
  {
   "cell_type": "code",
   "execution_count": 1,
   "metadata": {},
   "outputs": [
    {
     "data": {
      "text/html": [
       "\r\n",
       "<div>\r\n",
       "    <div id='dotnet-interactive-this-cell-15232.Microsoft.DotNet.Interactive.Http.HttpPort' style='display: none'>\r\n",
       "        The below script needs to be able to find the current output cell; this is an easy method to get it.\r\n",
       "    </div>\r\n",
       "    <script type='text/javascript'>\r\n",
       "async function probeAddresses(probingAddresses) {\r\n",
       "    function timeout(ms, promise) {\r\n",
       "        return new Promise(function (resolve, reject) {\r\n",
       "            setTimeout(function () {\r\n",
       "                reject(new Error('timeout'))\r\n",
       "            }, ms)\r\n",
       "            promise.then(resolve, reject)\r\n",
       "        })\r\n",
       "    }\r\n",
       "\r\n",
       "    if (Array.isArray(probingAddresses)) {\r\n",
       "        for (let i = 0; i < probingAddresses.length; i++) {\r\n",
       "\r\n",
       "            let rootUrl = probingAddresses[i];\r\n",
       "\r\n",
       "            if (!rootUrl.endsWith('/')) {\r\n",
       "                rootUrl = `${rootUrl}/`;\r\n",
       "            }\r\n",
       "\r\n",
       "            try {\r\n",
       "                let response = await timeout(1000, fetch(`${rootUrl}discovery`, {\r\n",
       "                    method: 'POST',\r\n",
       "                    cache: 'no-cache',\r\n",
       "                    mode: 'cors',\r\n",
       "                    timeout: 1000,\r\n",
       "                    headers: {\r\n",
       "                        'Content-Type': 'text/plain'\r\n",
       "                    },\r\n",
       "                    body: probingAddresses[i]\r\n",
       "                }));\r\n",
       "\r\n",
       "                if (response.status == 200) {\r\n",
       "                    return rootUrl;\r\n",
       "                }\r\n",
       "            }\r\n",
       "            catch (e) { }\r\n",
       "        }\r\n",
       "    }\r\n",
       "}\r\n",
       "\r\n",
       "function loadDotnetInteractiveApi() {\r\n",
       "    probeAddresses([\"http://192.168.0.66:1004/\", \"http://192.168.56.1:1004/\", \"http://127.0.0.1:1004/\"])\r\n",
       "        .then((root) => {\r\n",
       "        // use probing to find host url and api resources\r\n",
       "        // load interactive helpers and language services\r\n",
       "        let dotnetInteractiveRequire = require.config({\r\n",
       "        context: '15232.Microsoft.DotNet.Interactive.Http.HttpPort',\r\n",
       "                paths:\r\n",
       "            {\r\n",
       "                'dotnet-interactive': `${root}resources`\r\n",
       "                }\r\n",
       "        }) || require;\r\n",
       "\r\n",
       "            window.dotnetInteractiveRequire = dotnetInteractiveRequire;\r\n",
       "\r\n",
       "            window.configureRequireFromExtension = function(extensionName, extensionCacheBuster) {\r\n",
       "                let paths = {};\r\n",
       "                paths[extensionName] = `${root}extensions/${extensionName}/resources/`;\r\n",
       "                \r\n",
       "                let internalRequire = require.config({\r\n",
       "                    context: extensionCacheBuster,\r\n",
       "                    paths: paths,\r\n",
       "                    urlArgs: `cacheBuster=${extensionCacheBuster}`\r\n",
       "                    }) || require;\r\n",
       "\r\n",
       "                return internalRequire\r\n",
       "            };\r\n",
       "        \r\n",
       "            dotnetInteractiveRequire([\r\n",
       "                    'dotnet-interactive/dotnet-interactive'\r\n",
       "                ],\r\n",
       "                function (dotnet) {\r\n",
       "                    dotnet.init(window);\r\n",
       "                },\r\n",
       "                function (error) {\r\n",
       "                    console.log(error);\r\n",
       "                }\r\n",
       "            );\r\n",
       "        })\r\n",
       "        .catch(error => {console.log(error);});\r\n",
       "    }\r\n",
       "\r\n",
       "// ensure `require` is available globally\r\n",
       "if ((typeof(require) !==  typeof(Function)) || (typeof(require.config) !== typeof(Function))) {\r\n",
       "    let require_script = document.createElement('script');\r\n",
       "    require_script.setAttribute('src', 'https://cdnjs.cloudflare.com/ajax/libs/require.js/2.3.6/require.min.js');\r\n",
       "    require_script.setAttribute('type', 'text/javascript');\r\n",
       "    \r\n",
       "    \r\n",
       "    require_script.onload = function() {\r\n",
       "        loadDotnetInteractiveApi();\r\n",
       "    };\r\n",
       "\r\n",
       "    document.getElementsByTagName('head')[0].appendChild(require_script);\r\n",
       "}\r\n",
       "else {\r\n",
       "    loadDotnetInteractiveApi();\r\n",
       "}\r\n",
       "\r\n",
       "    </script>\r\n",
       "</div>"
      ]
     },
     "metadata": {},
     "output_type": "display_data"
    },
    {
     "name": "stdout",
     "output_type": "stream",
     "text": [
      "a b c * -\n",
      "a b * c d / -\n"
     ]
    }
   ],
   "source": [
    "public class OnpExpression\n",
    "{\n",
    "    public string expression {get; set;}\n",
    "\n",
    "    public OnpExpression() {}\n",
    "\n",
    "    public OnpExpression(string c)\n",
    "    {\n",
    "        this.expression = c;\n",
    "    }\n",
    "\n",
    "    public static OnpExpression operator* (OnpExpression x, OnpExpression y)\n",
    "    {\n",
    "        OnpExpression onp = new OnpExpression();\n",
    "        onp.expression = $\"{x.expression} {y.expression} *\";\n",
    "        return onp;\n",
    "    }\n",
    "    \n",
    "    public static OnpExpression operator/ (OnpExpression x, OnpExpression y)\n",
    "    {\n",
    "        OnpExpression onp = new OnpExpression();\n",
    "        onp.expression = $\"{x.expression} {y.expression} /\";\n",
    "        return onp;\n",
    "    }\n",
    "\n",
    "    public static OnpExpression operator+ (OnpExpression x, OnpExpression y) \n",
    "    {\n",
    "        OnpExpression onp = new OnpExpression();\n",
    "        onp.expression = $\"{x.expression} {y.expression} +\";\n",
    "        return onp;\n",
    "    }\n",
    "\n",
    "    public static OnpExpression operator- (OnpExpression x, OnpExpression y)\n",
    "    {\n",
    "        OnpExpression onp = new OnpExpression();\n",
    "        onp.expression = $\"{x.expression} {y.expression} -\";\n",
    "        return onp;\n",
    "    }\n",
    "\n",
    "    public override string ToString()\n",
    "    {\n",
    "        return expression;\n",
    "    }\n",
    "}\n",
    "\n",
    "OnpExpression a = new OnpExpression(\"a\");\n",
    "OnpExpression b = new OnpExpression(\"b\");\n",
    "OnpExpression c = new OnpExpression(\"c\");\n",
    "\n",
    "var x = a - b * c;\n",
    "\n",
    "var y = new OnpExpression(\"a\") * new OnpExpression(\"b\") - new OnpExpression(\"c\") / new OnpExpression(\"d\");\n",
    "\n",
    "Console.WriteLine(x.ToString());\n",
    "Console.WriteLine(y.ToString());"
   ]
  },
  {
   "cell_type": "markdown",
   "metadata": {},
   "source": [
    "## Zadanie 2\n",
    "\n",
    "Napisz operator dla `<` i `>`, który sprawdza, czy suma elementów listy jest większa czy mniejsza od drugiej listy. Przykładowo dla `a = [1,2,3,4]` i `b = [20,30]` `a < b` powinno zwrócić wartość `true`."
   ]
  },
  {
   "cell_type": "code",
   "execution_count": 2,
   "metadata": {},
   "outputs": [
    {
     "name": "stdout",
     "output_type": "stream",
     "text": [
      "True\r\n"
     ]
    }
   ],
   "source": [
    "public class DBBool \n",
    "{\n",
    "    private int[] array { get; set; }\n",
    "\n",
    "    public DBBool(int[] value) \n",
    "    {\n",
    "        this.array = value;\n",
    "    }\n",
    "    public static bool operator <(DBBool x, DBBool y)\n",
    "    {\n",
    "        return x.array.Sum() < y.array.Sum() ? true : false;\n",
    "    }\n",
    "\n",
    "    public static bool operator >(DBBool x, DBBool y)\n",
    "    {\n",
    "        return x.array.Sum() > y.array.Sum() ? true : false;\n",
    "    }\n",
    "}\n",
    "\n",
    "int[] a = {1, 2, 3, 4};\n",
    "int[] b = {20, 30};\n",
    "\n",
    "var data1 = new DBBool(a);\n",
    "var data2 = new DBBool(b);\n",
    "\n",
    "Console.WriteLine(data1 < data2);"
   ]
  },
  {
   "cell_type": "markdown",
   "metadata": {},
   "source": [
    "\n",
    "### Zadanie 3\n",
    "\n",
    "Dana jest klasa `Student` przechowująca dane typu: numer indeksu, wiek, płeć, rok studiów, semestr; klasa `Degree` przechowująca dane: przedmiot, ocenę, rok zaliczenia, semestr. Używając *LINQ*. \n",
    "\n",
    "* Połącz dane z klasy `Student` i `Degree`.\n",
    "* Wyświetl studentów, których wiek jest większy, niż średnia dla studentów na roku.\n",
    "* Wyświetl studentów, których średnia ocen jest większa niż pozostałych studentów na roku.\n"
   ]
  },
  {
   "cell_type": "code",
   "execution_count": 3,
   "metadata": {},
   "outputs": [
    {
     "name": "stdout",
     "output_type": "stream",
     "text": [
      " Old students: \n",
      " 1111: 25\n",
      "\n",
      " Average marks:\n",
      " 1111: 4\n",
      " 2222: 4\n",
      " 3333: 3,6666666666666665\n",
      " 4444: 4,333333333333333\n"
     ]
    }
   ],
   "source": [
    "class Student\n",
    "{\n",
    "    public int index_id { get; set; }\n",
    "    public int age { get; set; }\n",
    "    public char gender { get; set; }\n",
    "    public int year_of_study { get; set; }\n",
    "    public int term { get; set; }\n",
    "}\n",
    "\n",
    "class Degree\n",
    "{\n",
    "    public int index_id { get; set; }\n",
    "    public string subject { get; set; }\n",
    "    public double mark { get; set; }\n",
    "    public int year_of_pass { get; set; }\n",
    "    public int term { get; set; }\n",
    "}\n",
    "\n",
    "var students =  new List<Student>()\n",
    "{\n",
    "    new Student() { index_id = 1111, age = 25, gender = 'm', year_of_study = 1, term = 1},\n",
    "    new Student() { index_id = 2222, age = 19, gender = 'w', year_of_study = 1, term = 2},\n",
    "    new Student() { index_id = 3333, age = 20, gender = 'm', year_of_study = 2, term = 3},\n",
    "    new Student() { index_id = 4444, age = 21, gender = 'w', year_of_study = 3, term = 4},\n",
    "\n",
    "};\n",
    "\n",
    "var degrees = new List<Degree>()\n",
    "{\n",
    "    new Degree() { index_id = 1111, subject = \"JP\", mark = 4.5, year_of_pass = 1, term = 1},\n",
    "    new Degree() { index_id = 1111, subject = \"SWI\", mark = 4.0, year_of_pass = 1, term = 1},\n",
    "    new Degree() { index_id = 1111, subject = \"WDI\", mark = 3.5, year_of_pass = 1, term = 1},\n",
    "\n",
    "    new Degree() { index_id = 2222, subject = \"PTC\", mark = 5, year_of_pass = 1, term = 2},\n",
    "    new Degree() { index_id = 2222, subject = \"JPO\", mark = 3, year_of_pass = 1, term = 2},\n",
    "    new Degree() { index_id = 2222, subject = \"BD\", mark = 4, year_of_pass = 1, term = 2},\n",
    "  \n",
    "    new Degree() { index_id = 3333, subject = \"AK\", mark = 3.5, year_of_pass = 2, term = 3},\n",
    "    new Degree() { index_id = 3333, subject = \"LD\", mark = 3.0, year_of_pass = 2, term = 3},\n",
    "    new Degree() { index_id = 3333, subject = \"SO\", mark = 4.5, year_of_pass = 2, term = 3},\n",
    "\n",
    "    new Degree() { index_id = 4444, subject = \"PIO\", mark = 4, year_of_pass = 2, term = 4},\n",
    "    new Degree() { index_id = 4444, subject = \"MD\", mark = 4, year_of_pass = 2, term = 4},\n",
    "    new Degree() { index_id = 4444, subject = \"AISD\", mark = 5, year_of_pass = 2, term = 4},\n",
    " \n",
    "};\n",
    "\n",
    "var student_degree = \n",
    "\tfrom student in students\n",
    "    join deg in degrees on student.index_id equals deg.index_id into student_degrees\n",
    "    select new\n",
    "    {\n",
    "        IndexId = student.index_id,\n",
    "        Age = student.age,\n",
    "        Gender = student.gender,\n",
    "        YearOfStudy = student.year_of_study,\n",
    "        Term = student.term,\n",
    "        Degree = student_degrees\n",
    "    };\n",
    "\n",
    "var age_above = \n",
    "    from student in student_degree\n",
    "    where student.Age > students.Average(student => student.age)\n",
    "    select student;\n",
    "\n",
    "foreach(var i in age_above)\n",
    "{\n",
    "    Console.WriteLine($\" Old students: \\n {i.IndexId}: {i.Age}\");\n",
    "}\n",
    "\n",
    "var mark_above = \n",
    "    from student in student_degree\n",
    "    group student by student.YearOfStudy into grouped_by_year_of_study\n",
    "    from student_in_year in grouped_by_year_of_study\n",
    "    where student_in_year.Degree.Average(mark => mark.mark) >= grouped_by_year_of_study.Average(student => student.Degree.Average(mark => mark.mark))\n",
    "    select student_in_year;\n",
    "\n",
    "Console.WriteLine(\"\\n Average marks:\");\n",
    "foreach(var i in mark_above)\n",
    "{\n",
    "    Console.WriteLine(\" {0}: {1}\", i.IndexId, i.Degree.Average(mark => mark.mark));\n",
    "}"
   ]
  },
  {
   "cell_type": "code",
   "execution_count": null,
   "metadata": {},
   "outputs": [],
   "source": []
  }
 ],
 "metadata": {
  "kernelspec": {
   "display_name": ".NET (C#)",
   "language": "C#",
   "name": ".net-csharp"
  },
  "language_info": {
   "file_extension": ".cs",
   "mimetype": "text/x-csharp",
   "name": "C#",
   "pygments_lexer": "csharp",
   "version": "9.0"
  }
 },
 "nbformat": 4,
 "nbformat_minor": 4
}
